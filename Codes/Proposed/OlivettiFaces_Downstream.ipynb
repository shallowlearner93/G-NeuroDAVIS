{
 "cells": [
  {
   "cell_type": "markdown",
   "id": "4eeebcd0-d167-4886-8f7c-41444f54fb4e",
   "metadata": {},
   "source": [
    "# Paths"
   ]
  },
  {
   "cell_type": "code",
   "execution_count": 1,
   "id": "ac91611b-0936-4f98-9e8d-97181456b833",
   "metadata": {},
   "outputs": [],
   "source": [
    "path = '/home/tih_isi_7/G-NeuroDAVIS/'\n",
    "res_plots = path + 'Results/Plots/'\n",
    "path_emb = path + 'Data/Embeddings/'\n",
    "path_tab = path + 'Results/Tables/'"
   ]
  },
  {
   "cell_type": "markdown",
   "id": "c316981d-1615-41da-a1c9-b738ccfd660d",
   "metadata": {},
   "source": [
    "# Importing libraries"
   ]
  },
  {
   "cell_type": "code",
   "execution_count": 2,
   "id": "7d3c1f08-cfaf-482f-ac40-70ede91fbba8",
   "metadata": {},
   "outputs": [],
   "source": [
    "import warnings\n",
    "warnings.simplefilter(action='ignore', category=FutureWarning)\n",
    "\n",
    "import sys\n",
    "sys.path.append(path)\n",
    "\n",
    "import os\n",
    "os.environ['TF_CPP_MIN_LOG_LEVEL'] = '3'\n",
    "\n",
    "import keras\n",
    "import ipynbname\n",
    "import numpy as np\n",
    "import pandas as pd\n",
    "from tqdm import tqdm\n",
    "import matplotlib.pyplot as plt\n",
    "from utils import Datasets as ds\n",
    "from keras.models import load_model\n",
    "from utils import DownstreamAnalysis as DA\n",
    "\n",
    "dataname = ipynbname.name().rsplit(\"_\")[0]\n",
    "txt = %pwd\n",
    "methodname = txt.rsplit(\"/\")[-1]"
   ]
  },
  {
   "cell_type": "markdown",
   "id": "3652554f-7234-4fa7-8421-dfc730d8f90d",
   "metadata": {},
   "source": [
    "# Load labels and embeddings"
   ]
  },
  {
   "cell_type": "code",
   "execution_count": 3,
   "id": "078de0c1-1e7d-439f-992f-56a620601ac6",
   "metadata": {},
   "outputs": [],
   "source": [
    "y = ds.LoadData(dataname, DType='None', LType=True)\n",
    "x_embedding = np.array(pd.read_csv(path_emb+dataname+'/'+dataname+'_'+methodname+'.csv', index_col=0, header=0))"
   ]
  },
  {
   "cell_type": "markdown",
   "id": "3fac58ca-56e2-4b6d-9e32-d9753edb202b",
   "metadata": {},
   "source": [
    "# Downstream analysis"
   ]
  },
  {
   "cell_type": "markdown",
   "id": "d1158d5d-7c13-45dc-9af1-31f20bffe8a8",
   "metadata": {},
   "source": [
    "### k-NN"
   ]
  },
  {
   "cell_type": "code",
   "execution_count": 4,
   "id": "323e3b30-34c8-448d-99a1-752139df2953",
   "metadata": {},
   "outputs": [
    {
     "name": "stderr",
     "output_type": "stream",
     "text": [
      "/home/tih_isi_7/anaconda3/lib/python3.11/site-packages/sklearn/metrics/_classification.py:1469: UndefinedMetricWarning: Precision is ill-defined and being set to 0.0 in labels with no predicted samples. Use `zero_division` parameter to control this behavior.\n",
      "  _warn_prf(average, modifier, msg_start, len(result))\n",
      "/home/tih_isi_7/anaconda3/lib/python3.11/site-packages/sklearn/metrics/_classification.py:1469: UndefinedMetricWarning: Recall is ill-defined and being set to 0.0 in labels with no true samples. Use `zero_division` parameter to control this behavior.\n",
      "  _warn_prf(average, modifier, msg_start, len(result))\n",
      "/home/tih_isi_7/anaconda3/lib/python3.11/site-packages/sklearn/metrics/_classification.py:1469: UndefinedMetricWarning: Precision is ill-defined and being set to 0.0 in labels with no predicted samples. Use `zero_division` parameter to control this behavior.\n",
      "  _warn_prf(average, modifier, msg_start, len(result))\n",
      "/home/tih_isi_7/anaconda3/lib/python3.11/site-packages/sklearn/metrics/_classification.py:1469: UndefinedMetricWarning: Recall is ill-defined and being set to 0.0 in labels with no true samples. Use `zero_division` parameter to control this behavior.\n",
      "  _warn_prf(average, modifier, msg_start, len(result))\n",
      "/home/tih_isi_7/anaconda3/lib/python3.11/site-packages/sklearn/metrics/_classification.py:1469: UndefinedMetricWarning: Precision is ill-defined and being set to 0.0 in labels with no predicted samples. Use `zero_division` parameter to control this behavior.\n",
      "  _warn_prf(average, modifier, msg_start, len(result))\n",
      "/home/tih_isi_7/anaconda3/lib/python3.11/site-packages/sklearn/metrics/_classification.py:1469: UndefinedMetricWarning: Recall is ill-defined and being set to 0.0 in labels with no true samples. Use `zero_division` parameter to control this behavior.\n",
      "  _warn_prf(average, modifier, msg_start, len(result))\n",
      "/home/tih_isi_7/anaconda3/lib/python3.11/site-packages/sklearn/metrics/_classification.py:1469: UndefinedMetricWarning: Precision is ill-defined and being set to 0.0 in labels with no predicted samples. Use `zero_division` parameter to control this behavior.\n",
      "  _warn_prf(average, modifier, msg_start, len(result))\n",
      "/home/tih_isi_7/anaconda3/lib/python3.11/site-packages/sklearn/metrics/_classification.py:1469: UndefinedMetricWarning: Recall is ill-defined and being set to 0.0 in labels with no true samples. Use `zero_division` parameter to control this behavior.\n",
      "  _warn_prf(average, modifier, msg_start, len(result))\n",
      "/home/tih_isi_7/anaconda3/lib/python3.11/site-packages/sklearn/metrics/_classification.py:1469: UndefinedMetricWarning: Precision is ill-defined and being set to 0.0 in labels with no predicted samples. Use `zero_division` parameter to control this behavior.\n",
      "  _warn_prf(average, modifier, msg_start, len(result))\n",
      "/home/tih_isi_7/anaconda3/lib/python3.11/site-packages/sklearn/metrics/_classification.py:1469: UndefinedMetricWarning: Recall is ill-defined and being set to 0.0 in labels with no true samples. Use `zero_division` parameter to control this behavior.\n",
      "  _warn_prf(average, modifier, msg_start, len(result))\n"
     ]
    },
    {
     "data": {
      "text/html": [
       "<div>\n",
       "<style scoped>\n",
       "    .dataframe tbody tr th:only-of-type {\n",
       "        vertical-align: middle;\n",
       "    }\n",
       "\n",
       "    .dataframe tbody tr th {\n",
       "        vertical-align: top;\n",
       "    }\n",
       "\n",
       "    .dataframe thead th {\n",
       "        text-align: right;\n",
       "    }\n",
       "</style>\n",
       "<table border=\"1\" class=\"dataframe\">\n",
       "  <thead>\n",
       "    <tr style=\"text-align: right;\">\n",
       "      <th></th>\n",
       "      <th>Accuracy</th>\n",
       "      <th>Precision</th>\n",
       "      <th>Recall</th>\n",
       "      <th>F1-Score</th>\n",
       "    </tr>\n",
       "  </thead>\n",
       "  <tbody>\n",
       "    <tr>\n",
       "      <th>neighbour 5</th>\n",
       "      <td>0.5750</td>\n",
       "      <td>0.670000</td>\n",
       "      <td>0.5750</td>\n",
       "      <td>0.580357</td>\n",
       "    </tr>\n",
       "    <tr>\n",
       "      <th>neighbour 10</th>\n",
       "      <td>0.4375</td>\n",
       "      <td>0.505208</td>\n",
       "      <td>0.4375</td>\n",
       "      <td>0.435893</td>\n",
       "    </tr>\n",
       "    <tr>\n",
       "      <th>neighbour 15</th>\n",
       "      <td>0.4000</td>\n",
       "      <td>0.383750</td>\n",
       "      <td>0.4000</td>\n",
       "      <td>0.373185</td>\n",
       "    </tr>\n",
       "    <tr>\n",
       "      <th>neighbour 20</th>\n",
       "      <td>0.3125</td>\n",
       "      <td>0.297083</td>\n",
       "      <td>0.3125</td>\n",
       "      <td>0.291627</td>\n",
       "    </tr>\n",
       "    <tr>\n",
       "      <th>neighbour 25</th>\n",
       "      <td>0.2500</td>\n",
       "      <td>0.225208</td>\n",
       "      <td>0.2500</td>\n",
       "      <td>0.223006</td>\n",
       "    </tr>\n",
       "  </tbody>\n",
       "</table>\n",
       "</div>"
      ],
      "text/plain": [
       "              Accuracy  Precision  Recall  F1-Score\n",
       "neighbour 5     0.5750   0.670000  0.5750  0.580357\n",
       "neighbour 10    0.4375   0.505208  0.4375  0.435893\n",
       "neighbour 15    0.4000   0.383750  0.4000  0.373185\n",
       "neighbour 20    0.3125   0.297083  0.3125  0.291627\n",
       "neighbour 25    0.2500   0.225208  0.2500  0.223006"
      ]
     },
     "execution_count": 4,
     "metadata": {},
     "output_type": "execute_result"
    }
   ],
   "source": [
    "neighbour = [5, 10, 15, 20, 25]\n",
    "Score_knn = []\n",
    "for n in neighbour:\n",
    "    Score_knn.append(DA.Knn(x_embedding, y, n))\n",
    "Score_knn = pd.DataFrame(Score_knn, index=['neighbour '+ str(s) for s in neighbour],\n",
    "                         columns = ['Accuracy', 'Precision','Recall','F1-Score'])\n",
    "Score_knn.to_csv(path_tab+dataname+'_'+methodname+'_knn.csv')\n",
    "Score_knn"
   ]
  },
  {
   "cell_type": "markdown",
   "id": "4757c522-827f-4dd0-b96a-30a924c56df3",
   "metadata": {},
   "source": [
    "### Random Forest"
   ]
  },
  {
   "cell_type": "code",
   "execution_count": 5,
   "id": "922beea3-2073-4d6a-82b5-f0791dabe022",
   "metadata": {},
   "outputs": [
    {
     "name": "stderr",
     "output_type": "stream",
     "text": [
      "/home/tih_isi_7/anaconda3/lib/python3.11/site-packages/sklearn/metrics/_classification.py:1469: UndefinedMetricWarning: Precision is ill-defined and being set to 0.0 in labels with no predicted samples. Use `zero_division` parameter to control this behavior.\n",
      "  _warn_prf(average, modifier, msg_start, len(result))\n",
      "/home/tih_isi_7/anaconda3/lib/python3.11/site-packages/sklearn/metrics/_classification.py:1469: UndefinedMetricWarning: Recall is ill-defined and being set to 0.0 in labels with no true samples. Use `zero_division` parameter to control this behavior.\n",
      "  _warn_prf(average, modifier, msg_start, len(result))\n",
      "/home/tih_isi_7/anaconda3/lib/python3.11/site-packages/sklearn/metrics/_classification.py:1469: UndefinedMetricWarning: Precision is ill-defined and being set to 0.0 in labels with no predicted samples. Use `zero_division` parameter to control this behavior.\n",
      "  _warn_prf(average, modifier, msg_start, len(result))\n",
      "/home/tih_isi_7/anaconda3/lib/python3.11/site-packages/sklearn/metrics/_classification.py:1469: UndefinedMetricWarning: Recall is ill-defined and being set to 0.0 in labels with no true samples. Use `zero_division` parameter to control this behavior.\n",
      "  _warn_prf(average, modifier, msg_start, len(result))\n",
      "/home/tih_isi_7/anaconda3/lib/python3.11/site-packages/sklearn/metrics/_classification.py:1469: UndefinedMetricWarning: Precision is ill-defined and being set to 0.0 in labels with no predicted samples. Use `zero_division` parameter to control this behavior.\n",
      "  _warn_prf(average, modifier, msg_start, len(result))\n",
      "/home/tih_isi_7/anaconda3/lib/python3.11/site-packages/sklearn/metrics/_classification.py:1469: UndefinedMetricWarning: Recall is ill-defined and being set to 0.0 in labels with no true samples. Use `zero_division` parameter to control this behavior.\n",
      "  _warn_prf(average, modifier, msg_start, len(result))\n",
      "/home/tih_isi_7/anaconda3/lib/python3.11/site-packages/sklearn/metrics/_classification.py:1469: UndefinedMetricWarning: Precision is ill-defined and being set to 0.0 in labels with no predicted samples. Use `zero_division` parameter to control this behavior.\n",
      "  _warn_prf(average, modifier, msg_start, len(result))\n",
      "/home/tih_isi_7/anaconda3/lib/python3.11/site-packages/sklearn/metrics/_classification.py:1469: UndefinedMetricWarning: Recall is ill-defined and being set to 0.0 in labels with no true samples. Use `zero_division` parameter to control this behavior.\n",
      "  _warn_prf(average, modifier, msg_start, len(result))\n",
      "/home/tih_isi_7/anaconda3/lib/python3.11/site-packages/sklearn/metrics/_classification.py:1469: UndefinedMetricWarning: Precision is ill-defined and being set to 0.0 in labels with no predicted samples. Use `zero_division` parameter to control this behavior.\n",
      "  _warn_prf(average, modifier, msg_start, len(result))\n",
      "/home/tih_isi_7/anaconda3/lib/python3.11/site-packages/sklearn/metrics/_classification.py:1469: UndefinedMetricWarning: Recall is ill-defined and being set to 0.0 in labels with no true samples. Use `zero_division` parameter to control this behavior.\n",
      "  _warn_prf(average, modifier, msg_start, len(result))\n"
     ]
    },
    {
     "data": {
      "text/html": [
       "<div>\n",
       "<style scoped>\n",
       "    .dataframe tbody tr th:only-of-type {\n",
       "        vertical-align: middle;\n",
       "    }\n",
       "\n",
       "    .dataframe tbody tr th {\n",
       "        vertical-align: top;\n",
       "    }\n",
       "\n",
       "    .dataframe thead th {\n",
       "        text-align: right;\n",
       "    }\n",
       "</style>\n",
       "<table border=\"1\" class=\"dataframe\">\n",
       "  <thead>\n",
       "    <tr style=\"text-align: right;\">\n",
       "      <th></th>\n",
       "      <th>Accuracy</th>\n",
       "      <th>Precision</th>\n",
       "      <th>Recall</th>\n",
       "      <th>F1-Score</th>\n",
       "    </tr>\n",
       "  </thead>\n",
       "  <tbody>\n",
       "    <tr>\n",
       "      <th>n_tree 20</th>\n",
       "      <td>0.6875</td>\n",
       "      <td>0.671042</td>\n",
       "      <td>0.6875</td>\n",
       "      <td>0.660595</td>\n",
       "    </tr>\n",
       "    <tr>\n",
       "      <th>n_tree 40</th>\n",
       "      <td>0.7000</td>\n",
       "      <td>0.732708</td>\n",
       "      <td>0.7000</td>\n",
       "      <td>0.683393</td>\n",
       "    </tr>\n",
       "    <tr>\n",
       "      <th>n_tree 60</th>\n",
       "      <td>0.7125</td>\n",
       "      <td>0.751042</td>\n",
       "      <td>0.7125</td>\n",
       "      <td>0.700060</td>\n",
       "    </tr>\n",
       "    <tr>\n",
       "      <th>n_tree 80</th>\n",
       "      <td>0.6625</td>\n",
       "      <td>0.720833</td>\n",
       "      <td>0.6625</td>\n",
       "      <td>0.640893</td>\n",
       "    </tr>\n",
       "    <tr>\n",
       "      <th>n_tree 100</th>\n",
       "      <td>0.6875</td>\n",
       "      <td>0.660417</td>\n",
       "      <td>0.6875</td>\n",
       "      <td>0.657887</td>\n",
       "    </tr>\n",
       "  </tbody>\n",
       "</table>\n",
       "</div>"
      ],
      "text/plain": [
       "            Accuracy  Precision  Recall  F1-Score\n",
       "n_tree 20     0.6875   0.671042  0.6875  0.660595\n",
       "n_tree 40     0.7000   0.732708  0.7000  0.683393\n",
       "n_tree 60     0.7125   0.751042  0.7125  0.700060\n",
       "n_tree 80     0.6625   0.720833  0.6625  0.640893\n",
       "n_tree 100    0.6875   0.660417  0.6875  0.657887"
      ]
     },
     "execution_count": 5,
     "metadata": {},
     "output_type": "execute_result"
    }
   ],
   "source": [
    "n_tree = [20,40,60,80,100]\n",
    "Score_rfc = []\n",
    "for n in n_tree:\n",
    "    Score_rfc.append(DA.RFC(x_embedding, y, n))\n",
    "Score_rfc = pd.DataFrame(Score_rfc, index=['n_tree '+ str(s) for s in n_tree],\n",
    "                         columns = ['Accuracy', 'Precision','Recall','F1-Score'])\n",
    "Score_rfc.to_csv(path_tab+dataname+'_'+methodname+'_rfc.csv')\n",
    "Score_rfc"
   ]
  },
  {
   "cell_type": "markdown",
   "id": "7934a402-a92c-4c0a-8305-94a81e6d5d1e",
   "metadata": {},
   "source": [
    "### k-Means"
   ]
  },
  {
   "cell_type": "code",
   "execution_count": 6,
   "id": "8861e767-01c3-4259-ac02-73867b5a717c",
   "metadata": {},
   "outputs": [
    {
     "name": "stderr",
     "output_type": "stream",
     "text": [
      "Progress: 100%|█████████████████████████████████| 10/10 [00:01<00:00,  6.82it/s]\n"
     ]
    },
    {
     "data": {
      "text/html": [
       "<div>\n",
       "<style scoped>\n",
       "    .dataframe tbody tr th:only-of-type {\n",
       "        vertical-align: middle;\n",
       "    }\n",
       "\n",
       "    .dataframe tbody tr th {\n",
       "        vertical-align: top;\n",
       "    }\n",
       "\n",
       "    .dataframe thead th {\n",
       "        text-align: right;\n",
       "    }\n",
       "</style>\n",
       "<table border=\"1\" class=\"dataframe\">\n",
       "  <thead>\n",
       "    <tr style=\"text-align: right;\">\n",
       "      <th></th>\n",
       "      <th>ARI</th>\n",
       "      <th>FMI</th>\n",
       "      <th>NMI</th>\n",
       "    </tr>\n",
       "  </thead>\n",
       "  <tbody>\n",
       "    <tr>\n",
       "      <th>0</th>\n",
       "      <td>0.243664</td>\n",
       "      <td>0.656167</td>\n",
       "      <td>0.266504</td>\n",
       "    </tr>\n",
       "    <tr>\n",
       "      <th>1</th>\n",
       "      <td>0.272823</td>\n",
       "      <td>0.671512</td>\n",
       "      <td>0.293564</td>\n",
       "    </tr>\n",
       "    <tr>\n",
       "      <th>2</th>\n",
       "      <td>0.253264</td>\n",
       "      <td>0.663112</td>\n",
       "      <td>0.275478</td>\n",
       "    </tr>\n",
       "    <tr>\n",
       "      <th>3</th>\n",
       "      <td>0.257357</td>\n",
       "      <td>0.662435</td>\n",
       "      <td>0.278371</td>\n",
       "    </tr>\n",
       "    <tr>\n",
       "      <th>4</th>\n",
       "      <td>0.239137</td>\n",
       "      <td>0.659809</td>\n",
       "      <td>0.262418</td>\n",
       "    </tr>\n",
       "    <tr>\n",
       "      <th>5</th>\n",
       "      <td>0.273240</td>\n",
       "      <td>0.677492</td>\n",
       "      <td>0.293837</td>\n",
       "    </tr>\n",
       "    <tr>\n",
       "      <th>6</th>\n",
       "      <td>0.259044</td>\n",
       "      <td>0.657729</td>\n",
       "      <td>0.279260</td>\n",
       "    </tr>\n",
       "    <tr>\n",
       "      <th>7</th>\n",
       "      <td>0.262087</td>\n",
       "      <td>0.666670</td>\n",
       "      <td>0.283916</td>\n",
       "    </tr>\n",
       "    <tr>\n",
       "      <th>8</th>\n",
       "      <td>0.263436</td>\n",
       "      <td>0.667529</td>\n",
       "      <td>0.286755</td>\n",
       "    </tr>\n",
       "    <tr>\n",
       "      <th>9</th>\n",
       "      <td>0.272871</td>\n",
       "      <td>0.671901</td>\n",
       "      <td>0.293830</td>\n",
       "    </tr>\n",
       "  </tbody>\n",
       "</table>\n",
       "</div>"
      ],
      "text/plain": [
       "        ARI       FMI       NMI\n",
       "0  0.243664  0.656167  0.266504\n",
       "1  0.272823  0.671512  0.293564\n",
       "2  0.253264  0.663112  0.275478\n",
       "3  0.257357  0.662435  0.278371\n",
       "4  0.239137  0.659809  0.262418\n",
       "5  0.273240  0.677492  0.293837\n",
       "6  0.259044  0.657729  0.279260\n",
       "7  0.262087  0.666670  0.283916\n",
       "8  0.263436  0.667529  0.286755\n",
       "9  0.272871  0.671901  0.293830"
      ]
     },
     "execution_count": 6,
     "metadata": {},
     "output_type": "execute_result"
    }
   ],
   "source": [
    "iteration = 10\n",
    "Results_km = []\n",
    "\n",
    "for i in tqdm(range(iteration), desc='Progress'):\n",
    "    Results_km.append(DA.kmeans(x_embedding, y))\n",
    "    \n",
    "Results_km = pd.DataFrame(Results_km,columns = ['ARI', 'FMI','NMI'])\n",
    "Results_km"
   ]
  },
  {
   "cell_type": "markdown",
   "id": "ab906b1b-48ac-45e0-8451-64d30ae0d8cb",
   "metadata": {},
   "source": [
    "### Agglomerative "
   ]
  },
  {
   "cell_type": "code",
   "execution_count": null,
   "id": "48119672-2fb2-45b0-8b85-90a664318bf5",
   "metadata": {},
   "outputs": [],
   "source": [
    "idx = ['ARI', 'FMI','NMI']\n",
    "AglScore = pd.DataFrame(DA.Agglomerative(x_embedding, y), index = idx)    #seurat_clusters, Cluster, celltype.l2\n",
    "AglScore.T"
   ]
  },
  {
   "cell_type": "code",
   "execution_count": null,
   "id": "64e9ca87-4f62-4d79-bbcc-fa4c5aadb803",
   "metadata": {},
   "outputs": [],
   "source": []
  }
 ],
 "metadata": {
  "kernelspec": {
   "display_name": "Python 3 (ipykernel)",
   "language": "python",
   "name": "python3"
  },
  "language_info": {
   "codemirror_mode": {
    "name": "ipython",
    "version": 3
   },
   "file_extension": ".py",
   "mimetype": "text/x-python",
   "name": "python",
   "nbconvert_exporter": "python",
   "pygments_lexer": "ipython3",
   "version": "3.11.5"
  }
 },
 "nbformat": 4,
 "nbformat_minor": 5
}
