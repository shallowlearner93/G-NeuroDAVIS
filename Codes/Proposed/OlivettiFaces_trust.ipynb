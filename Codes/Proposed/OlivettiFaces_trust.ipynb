{
 "cells": [
  {
   "cell_type": "markdown",
   "id": "4eeebcd0-d167-4886-8f7c-41444f54fb4e",
   "metadata": {},
   "source": [
    "# Paths"
   ]
  },
  {
   "cell_type": "code",
   "execution_count": 1,
   "id": "ac91611b-0936-4f98-9e8d-97181456b833",
   "metadata": {},
   "outputs": [],
   "source": [
    "path = '/home/chayan/NeuroGDAVIS/'\n",
    "res_plots = path + 'Results/Plots/'\n",
    "path_emb = path + 'Data/Embeddings/'"
   ]
  },
  {
   "cell_type": "markdown",
   "id": "c316981d-1615-41da-a1c9-b738ccfd660d",
   "metadata": {},
   "source": [
    "# Importing libraries"
   ]
  },
  {
   "cell_type": "code",
   "execution_count": 2,
   "id": "7d3c1f08-cfaf-482f-ac40-70ede91fbba8",
   "metadata": {},
   "outputs": [],
   "source": [
    "import sys\n",
    "sys.path.append(path)\n",
    "\n",
    "import os\n",
    "os.environ['TF_CPP_MIN_LOG_LEVEL'] = '3'\n",
    "\n",
    "\n",
    "import ipynbname\n",
    "import numpy as np\n",
    "import pandas as pd\n",
    "import matplotlib.pyplot as plt\n",
    "from utils import Datasets as ds\n",
    "from utils import DownstreamAnalysis as DA\n",
    "\n",
    "dataname = ipynbname.name().rsplit(\"_\")[0]\n",
    "txt = %pwd\n",
    "methodname = txt.rsplit(\"/\")[-1]"
   ]
  },
  {
   "cell_type": "markdown",
   "id": "3652554f-7234-4fa7-8421-dfc730d8f90d",
   "metadata": {},
   "source": [
    "# Load embeddings"
   ]
  },
  {
   "cell_type": "code",
   "execution_count": 3,
   "id": "078de0c1-1e7d-439f-992f-56a620601ac6",
   "metadata": {},
   "outputs": [],
   "source": [
    "X = ds.LoadData(dataname, DType='test', LType=False)\n",
    "x_embedding = np.array(pd.read_csv(path_emb+dataname+'/'+dataname+'_'+methodname+'.csv', index_col=0, header=0))"
   ]
  },
  {
   "cell_type": "markdown",
   "id": "1594af48-83f7-4b7d-ae51-50ed78d32bb5",
   "metadata": {},
   "source": [
    "# Trustworthiness"
   ]
  },
  {
   "cell_type": "code",
   "execution_count": 4,
   "id": "c83d7ed0-e2e9-441b-8bf9-a68ff3ecf9ac",
   "metadata": {},
   "outputs": [
    {
     "data": {
      "text/html": [
       "<div>\n",
       "<style scoped>\n",
       "    .dataframe tbody tr th:only-of-type {\n",
       "        vertical-align: middle;\n",
       "    }\n",
       "\n",
       "    .dataframe tbody tr th {\n",
       "        vertical-align: top;\n",
       "    }\n",
       "\n",
       "    .dataframe thead th {\n",
       "        text-align: right;\n",
       "    }\n",
       "</style>\n",
       "<table border=\"1\" class=\"dataframe\">\n",
       "  <thead>\n",
       "    <tr style=\"text-align: right;\">\n",
       "      <th></th>\n",
       "      <th>Trustworthiness</th>\n",
       "    </tr>\n",
       "  </thead>\n",
       "  <tbody>\n",
       "    <tr>\n",
       "      <th>neighbour 5</th>\n",
       "      <td>0.965158</td>\n",
       "    </tr>\n",
       "    <tr>\n",
       "      <th>neighbour 10</th>\n",
       "      <td>0.942934</td>\n",
       "    </tr>\n",
       "    <tr>\n",
       "      <th>neighbour 20</th>\n",
       "      <td>0.917917</td>\n",
       "    </tr>\n",
       "    <tr>\n",
       "      <th>neighbour 50</th>\n",
       "      <td>0.888078</td>\n",
       "    </tr>\n",
       "    <tr>\n",
       "      <th>neighbour 100</th>\n",
       "      <td>0.877344</td>\n",
       "    </tr>\n",
       "  </tbody>\n",
       "</table>\n",
       "</div>"
      ],
      "text/plain": [
       "               Trustworthiness\n",
       "neighbour 5           0.965158\n",
       "neighbour 10          0.942934\n",
       "neighbour 20          0.917917\n",
       "neighbour 50          0.888078\n",
       "neighbour 100         0.877344"
      ]
     },
     "execution_count": 4,
     "metadata": {},
     "output_type": "execute_result"
    }
   ],
   "source": [
    "neighbour = [5, 10, 20, 50, 100]\n",
    "Score = []\n",
    "for n in neighbour:\n",
    "    Score.append(DA.TrustScore(X, x_embedding, n))\n",
    "Score = pd.DataFrame(Score, index=['neighbour '+ str(s) for s in neighbour], columns = ['Trustworthiness'])\n",
    "Score"
   ]
  },
  {
   "cell_type": "code",
   "execution_count": null,
   "id": "64e9ca87-4f62-4d79-bbcc-fa4c5aadb803",
   "metadata": {},
   "outputs": [],
   "source": []
  }
 ],
 "metadata": {
  "kernelspec": {
   "display_name": "Python 3 (ipykernel)",
   "language": "python",
   "name": "python3"
  },
  "language_info": {
   "codemirror_mode": {
    "name": "ipython",
    "version": 3
   },
   "file_extension": ".py",
   "mimetype": "text/x-python",
   "name": "python",
   "nbconvert_exporter": "python",
   "pygments_lexer": "ipython3",
   "version": "3.11.0"
  }
 },
 "nbformat": 4,
 "nbformat_minor": 5
}
