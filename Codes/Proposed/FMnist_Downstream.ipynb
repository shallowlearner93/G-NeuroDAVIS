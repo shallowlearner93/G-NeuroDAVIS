{
 "cells": [
  {
   "cell_type": "markdown",
   "id": "4eeebcd0-d167-4886-8f7c-41444f54fb4e",
   "metadata": {},
   "source": [
    "# Paths"
   ]
  },
  {
   "cell_type": "code",
   "execution_count": 1,
   "id": "ac91611b-0936-4f98-9e8d-97181456b833",
   "metadata": {},
   "outputs": [],
   "source": [
    "path = '/home/chayan/NeuroGDAVIS/'\n",
    "res_plots = path + 'Results/Plots/'\n",
    "path_emb = path + 'Data/Embeddings/'"
   ]
  },
  {
   "cell_type": "markdown",
   "id": "c316981d-1615-41da-a1c9-b738ccfd660d",
   "metadata": {},
   "source": [
    "# Importing libraries"
   ]
  },
  {
   "cell_type": "code",
   "execution_count": 2,
   "id": "7d3c1f08-cfaf-482f-ac40-70ede91fbba8",
   "metadata": {},
   "outputs": [],
   "source": [
    "import sys\n",
    "sys.path.append(path)\n",
    "\n",
    "import os\n",
    "os.environ['TF_CPP_MIN_LOG_LEVEL'] = '3'\n",
    "\n",
    "import keras\n",
    "import ipynbname\n",
    "import numpy as np\n",
    "import pandas as pd\n",
    "from tqdm import tqdm\n",
    "import matplotlib.pyplot as plt\n",
    "from utils import Datasets as ds\n",
    "from keras.models import load_model\n",
    "from utils import DownstreamAnalysis as DA\n",
    "\n",
    "dataname = ipynbname.name().rsplit(\"_\")[0]\n",
    "txt = %pwd\n",
    "methodname = txt.rsplit(\"/\")[-1]"
   ]
  },
  {
   "cell_type": "markdown",
   "id": "3652554f-7234-4fa7-8421-dfc730d8f90d",
   "metadata": {},
   "source": [
    "# Load labels and embeddings"
   ]
  },
  {
   "cell_type": "code",
   "execution_count": 3,
   "id": "078de0c1-1e7d-439f-992f-56a620601ac6",
   "metadata": {},
   "outputs": [],
   "source": [
    "y = ds.LoadData(dataname, DType='None', LType=True)\n",
    "x_embedding = np.array(pd.read_csv(path_emb+dataname+'/'+dataname+'_'+methodname+'.csv', index_col=0, header=0))"
   ]
  },
  {
   "cell_type": "markdown",
   "id": "3fac58ca-56e2-4b6d-9e32-d9753edb202b",
   "metadata": {},
   "source": [
    "# Downstream analysis"
   ]
  },
  {
   "cell_type": "markdown",
   "id": "d1158d5d-7c13-45dc-9af1-31f20bffe8a8",
   "metadata": {},
   "source": [
    "### k-NN"
   ]
  },
  {
   "cell_type": "code",
   "execution_count": 4,
   "id": "323e3b30-34c8-448d-99a1-752139df2953",
   "metadata": {},
   "outputs": [
    {
     "data": {
      "text/html": [
       "<div>\n",
       "<style scoped>\n",
       "    .dataframe tbody tr th:only-of-type {\n",
       "        vertical-align: middle;\n",
       "    }\n",
       "\n",
       "    .dataframe tbody tr th {\n",
       "        vertical-align: top;\n",
       "    }\n",
       "\n",
       "    .dataframe thead th {\n",
       "        text-align: right;\n",
       "    }\n",
       "</style>\n",
       "<table border=\"1\" class=\"dataframe\">\n",
       "  <thead>\n",
       "    <tr style=\"text-align: right;\">\n",
       "      <th></th>\n",
       "      <th>Accuracy</th>\n",
       "      <th>Precision</th>\n",
       "      <th>Recall</th>\n",
       "      <th>F1-Score</th>\n",
       "    </tr>\n",
       "  </thead>\n",
       "  <tbody>\n",
       "    <tr>\n",
       "      <th>neighbour 5</th>\n",
       "      <td>0.7205</td>\n",
       "      <td>0.717179</td>\n",
       "      <td>0.7205</td>\n",
       "      <td>0.716212</td>\n",
       "    </tr>\n",
       "    <tr>\n",
       "      <th>neighbour 15</th>\n",
       "      <td>0.7310</td>\n",
       "      <td>0.728280</td>\n",
       "      <td>0.7310</td>\n",
       "      <td>0.728323</td>\n",
       "    </tr>\n",
       "    <tr>\n",
       "      <th>neighbour 25</th>\n",
       "      <td>0.7275</td>\n",
       "      <td>0.726487</td>\n",
       "      <td>0.7275</td>\n",
       "      <td>0.725710</td>\n",
       "    </tr>\n",
       "    <tr>\n",
       "      <th>neighbour 35</th>\n",
       "      <td>0.7280</td>\n",
       "      <td>0.726283</td>\n",
       "      <td>0.7280</td>\n",
       "      <td>0.725549</td>\n",
       "    </tr>\n",
       "    <tr>\n",
       "      <th>neighbour 45</th>\n",
       "      <td>0.7245</td>\n",
       "      <td>0.721680</td>\n",
       "      <td>0.7245</td>\n",
       "      <td>0.721221</td>\n",
       "    </tr>\n",
       "  </tbody>\n",
       "</table>\n",
       "</div>"
      ],
      "text/plain": [
       "              Accuracy  Precision  Recall  F1-Score\n",
       "neighbour 5     0.7205   0.717179  0.7205  0.716212\n",
       "neighbour 15    0.7310   0.728280  0.7310  0.728323\n",
       "neighbour 25    0.7275   0.726487  0.7275  0.725710\n",
       "neighbour 35    0.7280   0.726283  0.7280  0.725549\n",
       "neighbour 45    0.7245   0.721680  0.7245  0.721221"
      ]
     },
     "execution_count": 4,
     "metadata": {},
     "output_type": "execute_result"
    }
   ],
   "source": [
    "neighbour = [5, 15, 25, 35, 45]\n",
    "Score_knn = []\n",
    "for n in neighbour:\n",
    "    Score_knn.append(DA.Knn(x_embedding, y, n))\n",
    "Score_knn = pd.DataFrame(Score_knn, index=['neighbour '+ str(s) for s in neighbour],\n",
    "                         columns = ['Accuracy', 'Precision','Recall','F1-Score'])\n",
    "Score_knn"
   ]
  },
  {
   "cell_type": "markdown",
   "id": "4757c522-827f-4dd0-b96a-30a924c56df3",
   "metadata": {},
   "source": [
    "### Random Forest"
   ]
  },
  {
   "cell_type": "code",
   "execution_count": 5,
   "id": "922beea3-2073-4d6a-82b5-f0791dabe022",
   "metadata": {},
   "outputs": [
    {
     "data": {
      "text/html": [
       "<div>\n",
       "<style scoped>\n",
       "    .dataframe tbody tr th:only-of-type {\n",
       "        vertical-align: middle;\n",
       "    }\n",
       "\n",
       "    .dataframe tbody tr th {\n",
       "        vertical-align: top;\n",
       "    }\n",
       "\n",
       "    .dataframe thead th {\n",
       "        text-align: right;\n",
       "    }\n",
       "</style>\n",
       "<table border=\"1\" class=\"dataframe\">\n",
       "  <thead>\n",
       "    <tr style=\"text-align: right;\">\n",
       "      <th></th>\n",
       "      <th>Accuracy</th>\n",
       "      <th>Precision</th>\n",
       "      <th>Recall</th>\n",
       "      <th>F1-Score</th>\n",
       "    </tr>\n",
       "  </thead>\n",
       "  <tbody>\n",
       "    <tr>\n",
       "      <th>n_tree 5</th>\n",
       "      <td>0.7145</td>\n",
       "      <td>0.713993</td>\n",
       "      <td>0.7145</td>\n",
       "      <td>0.713272</td>\n",
       "    </tr>\n",
       "    <tr>\n",
       "      <th>n_tree 15</th>\n",
       "      <td>0.7210</td>\n",
       "      <td>0.720161</td>\n",
       "      <td>0.7210</td>\n",
       "      <td>0.720055</td>\n",
       "    </tr>\n",
       "    <tr>\n",
       "      <th>n_tree 25</th>\n",
       "      <td>0.7140</td>\n",
       "      <td>0.713133</td>\n",
       "      <td>0.7140</td>\n",
       "      <td>0.712727</td>\n",
       "    </tr>\n",
       "    <tr>\n",
       "      <th>n_tree 35</th>\n",
       "      <td>0.7100</td>\n",
       "      <td>0.709748</td>\n",
       "      <td>0.7100</td>\n",
       "      <td>0.709254</td>\n",
       "    </tr>\n",
       "    <tr>\n",
       "      <th>n_tree 45</th>\n",
       "      <td>0.7150</td>\n",
       "      <td>0.714360</td>\n",
       "      <td>0.7150</td>\n",
       "      <td>0.714100</td>\n",
       "    </tr>\n",
       "  </tbody>\n",
       "</table>\n",
       "</div>"
      ],
      "text/plain": [
       "           Accuracy  Precision  Recall  F1-Score\n",
       "n_tree 5     0.7145   0.713993  0.7145  0.713272\n",
       "n_tree 15    0.7210   0.720161  0.7210  0.720055\n",
       "n_tree 25    0.7140   0.713133  0.7140  0.712727\n",
       "n_tree 35    0.7100   0.709748  0.7100  0.709254\n",
       "n_tree 45    0.7150   0.714360  0.7150  0.714100"
      ]
     },
     "execution_count": 5,
     "metadata": {},
     "output_type": "execute_result"
    }
   ],
   "source": [
    "n_tree = [20,40,60,80,100]\n",
    "Score_rfc = []\n",
    "for n in n_tree:\n",
    "    Score_rfc.append(DA.RFC(x_embedding, y, n))\n",
    "Score_rfc = pd.DataFrame(Score_rfc, index=['n_tree '+ str(s) for s in neighbour],\n",
    "                         columns = ['Accuracy', 'Precision','Recall','F1-Score'])\n",
    "Score_rfc"
   ]
  },
  {
   "cell_type": "markdown",
   "id": "7934a402-a92c-4c0a-8305-94a81e6d5d1e",
   "metadata": {},
   "source": [
    "### k-Means"
   ]
  },
  {
   "cell_type": "code",
   "execution_count": 6,
   "id": "8861e767-01c3-4259-ac02-73867b5a717c",
   "metadata": {},
   "outputs": [
    {
     "name": "stderr",
     "output_type": "stream",
     "text": [
      "Progress: 100%|█████████████████████████████████| 10/10 [00:00<00:00, 12.24it/s]\n"
     ]
    },
    {
     "data": {
      "text/html": [
       "<div>\n",
       "<style scoped>\n",
       "    .dataframe tbody tr th:only-of-type {\n",
       "        vertical-align: middle;\n",
       "    }\n",
       "\n",
       "    .dataframe tbody tr th {\n",
       "        vertical-align: top;\n",
       "    }\n",
       "\n",
       "    .dataframe thead th {\n",
       "        text-align: right;\n",
       "    }\n",
       "</style>\n",
       "<table border=\"1\" class=\"dataframe\">\n",
       "  <thead>\n",
       "    <tr style=\"text-align: right;\">\n",
       "      <th></th>\n",
       "      <th>ARI</th>\n",
       "      <th>FMI</th>\n",
       "      <th>NMI</th>\n",
       "    </tr>\n",
       "  </thead>\n",
       "  <tbody>\n",
       "    <tr>\n",
       "      <th>0</th>\n",
       "      <td>0.240214</td>\n",
       "      <td>0.426282</td>\n",
       "      <td>0.325654</td>\n",
       "    </tr>\n",
       "    <tr>\n",
       "      <th>1</th>\n",
       "      <td>0.260403</td>\n",
       "      <td>0.439101</td>\n",
       "      <td>0.340329</td>\n",
       "    </tr>\n",
       "    <tr>\n",
       "      <th>2</th>\n",
       "      <td>0.243671</td>\n",
       "      <td>0.420773</td>\n",
       "      <td>0.323180</td>\n",
       "    </tr>\n",
       "    <tr>\n",
       "      <th>3</th>\n",
       "      <td>0.276036</td>\n",
       "      <td>0.451929</td>\n",
       "      <td>0.353244</td>\n",
       "    </tr>\n",
       "    <tr>\n",
       "      <th>4</th>\n",
       "      <td>0.248868</td>\n",
       "      <td>0.431253</td>\n",
       "      <td>0.329191</td>\n",
       "    </tr>\n",
       "    <tr>\n",
       "      <th>5</th>\n",
       "      <td>0.224890</td>\n",
       "      <td>0.401999</td>\n",
       "      <td>0.308166</td>\n",
       "    </tr>\n",
       "    <tr>\n",
       "      <th>6</th>\n",
       "      <td>0.258402</td>\n",
       "      <td>0.437288</td>\n",
       "      <td>0.338456</td>\n",
       "    </tr>\n",
       "    <tr>\n",
       "      <th>7</th>\n",
       "      <td>0.276626</td>\n",
       "      <td>0.452197</td>\n",
       "      <td>0.353635</td>\n",
       "    </tr>\n",
       "    <tr>\n",
       "      <th>8</th>\n",
       "      <td>0.260356</td>\n",
       "      <td>0.440675</td>\n",
       "      <td>0.341702</td>\n",
       "    </tr>\n",
       "    <tr>\n",
       "      <th>9</th>\n",
       "      <td>0.276421</td>\n",
       "      <td>0.467790</td>\n",
       "      <td>0.354893</td>\n",
       "    </tr>\n",
       "  </tbody>\n",
       "</table>\n",
       "</div>"
      ],
      "text/plain": [
       "        ARI       FMI       NMI\n",
       "0  0.240214  0.426282  0.325654\n",
       "1  0.260403  0.439101  0.340329\n",
       "2  0.243671  0.420773  0.323180\n",
       "3  0.276036  0.451929  0.353244\n",
       "4  0.248868  0.431253  0.329191\n",
       "5  0.224890  0.401999  0.308166\n",
       "6  0.258402  0.437288  0.338456\n",
       "7  0.276626  0.452197  0.353635\n",
       "8  0.260356  0.440675  0.341702\n",
       "9  0.276421  0.467790  0.354893"
      ]
     },
     "execution_count": 6,
     "metadata": {},
     "output_type": "execute_result"
    }
   ],
   "source": [
    "iteration = 10\n",
    "Results_km = []\n",
    "\n",
    "for i in tqdm(range(iteration), desc='Progress'):\n",
    "    Results_km.append(DA.kmeans(x_embedding, y))\n",
    "    \n",
    "Results_km = pd.DataFrame(Results_km,columns = ['ARI', 'FMI','NMI'])\n",
    "Results_km"
   ]
  },
  {
   "cell_type": "markdown",
   "id": "ab906b1b-48ac-45e0-8451-64d30ae0d8cb",
   "metadata": {},
   "source": [
    "### Agglomerative "
   ]
  },
  {
   "cell_type": "code",
   "execution_count": 7,
   "id": "48119672-2fb2-45b0-8b85-90a664318bf5",
   "metadata": {},
   "outputs": [
    {
     "data": {
      "text/html": [
       "<div>\n",
       "<style scoped>\n",
       "    .dataframe tbody tr th:only-of-type {\n",
       "        vertical-align: middle;\n",
       "    }\n",
       "\n",
       "    .dataframe tbody tr th {\n",
       "        vertical-align: top;\n",
       "    }\n",
       "\n",
       "    .dataframe thead th {\n",
       "        text-align: right;\n",
       "    }\n",
       "</style>\n",
       "<table border=\"1\" class=\"dataframe\">\n",
       "  <thead>\n",
       "    <tr style=\"text-align: right;\">\n",
       "      <th></th>\n",
       "      <th>ARI</th>\n",
       "      <th>FMI</th>\n",
       "      <th>NMI</th>\n",
       "    </tr>\n",
       "  </thead>\n",
       "  <tbody>\n",
       "    <tr>\n",
       "      <th>0</th>\n",
       "      <td>0.23978</td>\n",
       "      <td>0.428219</td>\n",
       "      <td>0.323109</td>\n",
       "    </tr>\n",
       "  </tbody>\n",
       "</table>\n",
       "</div>"
      ],
      "text/plain": [
       "       ARI       FMI       NMI\n",
       "0  0.23978  0.428219  0.323109"
      ]
     },
     "execution_count": 7,
     "metadata": {},
     "output_type": "execute_result"
    }
   ],
   "source": [
    "idx = ['ARI', 'FMI','NMI']\n",
    "AglScore = pd.DataFrame(DA.Agglomerative(x_embedding, y), index = idx)    #seurat_clusters, Cluster, celltype.l2\n",
    "AglScore.T"
   ]
  },
  {
   "cell_type": "code",
   "execution_count": null,
   "id": "64e9ca87-4f62-4d79-bbcc-fa4c5aadb803",
   "metadata": {},
   "outputs": [],
   "source": []
  }
 ],
 "metadata": {
  "kernelspec": {
   "display_name": "Python 3 (ipykernel)",
   "language": "python",
   "name": "python3"
  },
  "language_info": {
   "codemirror_mode": {
    "name": "ipython",
    "version": 3
   },
   "file_extension": ".py",
   "mimetype": "text/x-python",
   "name": "python",
   "nbconvert_exporter": "python",
   "pygments_lexer": "ipython3",
   "version": "3.11.0"
  }
 },
 "nbformat": 4,
 "nbformat_minor": 5
}
