{
 "cells": [
  {
   "cell_type": "markdown",
   "id": "e2c27de0-4c66-4a52-89c5-14bd95138392",
   "metadata": {},
   "source": [
    "# Paths "
   ]
  },
  {
   "cell_type": "code",
   "execution_count": 1,
   "id": "53785c45-3816-47c5-9da1-fc743f8aaf88",
   "metadata": {},
   "outputs": [],
   "source": [
    "path = '/home/chayan/NeuroGDAVIS/'\n",
    "res_plots = path + 'Results/Plots/'\n",
    "res_model = path + 'Results/Models/'\n",
    "path_emb = path + 'Data/Embeddings/'"
   ]
  },
  {
   "cell_type": "markdown",
   "id": "e33475cf",
   "metadata": {},
   "source": [
    "# Importing libraries"
   ]
  },
  {
   "cell_type": "code",
   "execution_count": 2,
   "id": "ff09bcc0",
   "metadata": {},
   "outputs": [],
   "source": [
    "import sys\n",
    "sys.path.append(path)\n",
    "\n",
    "import os\n",
    "os.environ['TF_CPP_MIN_LOG_LEVEL'] = '3'\n",
    "\n",
    "import keras\n",
    "import ipynbname\n",
    "import numpy as np\n",
    "import pandas as pd\n",
    "from utils import VAE\n",
    "import matplotlib.pyplot as plt\n",
    "from utils import Datasets as ds \n",
    "\n",
    "dataname = ipynbname.name().rsplit(\"_\")[0]\n",
    "txt = %pwd\n",
    "methodname = txt.rsplit(\"/\")[-1]"
   ]
  },
  {
   "cell_type": "markdown",
   "id": "ef1a3424",
   "metadata": {},
   "source": [
    "# Importing datasets"
   ]
  },
  {
   "cell_type": "code",
   "execution_count": 3,
   "id": "2d7327c6",
   "metadata": {},
   "outputs": [],
   "source": [
    "X, y = ds.LoadData(dataname, DType='test')"
   ]
  },
  {
   "cell_type": "markdown",
   "id": "aac400d0",
   "metadata": {},
   "source": [
    "# Run VAE"
   ]
  },
  {
   "cell_type": "code",
   "execution_count": 4,
   "id": "7003c396",
   "metadata": {
    "scrolled": true
   },
   "outputs": [
    {
     "name": "stdout",
     "output_type": "stream",
     "text": [
      "Epoch 1/100\n",
      "10/10 [==============================] - 1s 25ms/step - loss: 202.7012 - reconstruction_loss: 167.8288 - kl_loss: 0.2185\n",
      "Epoch 2/100\n",
      "10/10 [==============================] - 0s 27ms/step - loss: 79.6233 - reconstruction_loss: 76.7963 - kl_loss: 2.2909\n",
      "Epoch 3/100\n",
      "10/10 [==============================] - 0s 26ms/step - loss: 77.4925 - reconstruction_loss: 73.8781 - kl_loss: 3.2002\n",
      "Epoch 4/100\n",
      "10/10 [==============================] - 0s 25ms/step - loss: 74.8888 - reconstruction_loss: 72.1055 - kl_loss: 2.3206\n",
      "Epoch 5/100\n",
      "10/10 [==============================] - 0s 25ms/step - loss: 72.0438 - reconstruction_loss: 70.0063 - kl_loss: 1.4732\n",
      "Epoch 6/100\n",
      "10/10 [==============================] - 0s 26ms/step - loss: 69.0258 - reconstruction_loss: 67.6079 - kl_loss: 1.0191\n",
      "Epoch 7/100\n",
      "10/10 [==============================] - 0s 25ms/step - loss: 67.0367 - reconstruction_loss: 65.9116 - kl_loss: 0.7252\n",
      "Epoch 8/100\n",
      "10/10 [==============================] - 0s 25ms/step - loss: 65.0896 - reconstruction_loss: 64.1600 - kl_loss: 0.4673\n",
      "Epoch 9/100\n",
      "10/10 [==============================] - 0s 26ms/step - loss: 63.0512 - reconstruction_loss: 62.4704 - kl_loss: 0.3851\n",
      "Epoch 10/100\n",
      "10/10 [==============================] - 0s 27ms/step - loss: 61.3677 - reconstruction_loss: 60.5707 - kl_loss: 0.4410\n",
      "Epoch 11/100\n",
      "10/10 [==============================] - 0s 25ms/step - loss: 59.9320 - reconstruction_loss: 58.8102 - kl_loss: 0.4958\n",
      "Epoch 12/100\n",
      "10/10 [==============================] - 0s 25ms/step - loss: 57.9770 - reconstruction_loss: 57.3711 - kl_loss: 0.5075\n",
      "Epoch 13/100\n",
      "10/10 [==============================] - 0s 25ms/step - loss: 56.8092 - reconstruction_loss: 56.1164 - kl_loss: 0.4783\n",
      "Epoch 14/100\n",
      "10/10 [==============================] - 0s 25ms/step - loss: 55.7393 - reconstruction_loss: 55.0860 - kl_loss: 0.4509\n",
      "Epoch 15/100\n",
      "10/10 [==============================] - 0s 25ms/step - loss: 54.9445 - reconstruction_loss: 54.2925 - kl_loss: 0.4491\n",
      "Epoch 16/100\n",
      "10/10 [==============================] - 0s 26ms/step - loss: 54.3201 - reconstruction_loss: 53.7187 - kl_loss: 0.4321\n",
      "Epoch 17/100\n",
      "10/10 [==============================] - 0s 26ms/step - loss: 53.5886 - reconstruction_loss: 53.1942 - kl_loss: 0.4144\n",
      "Epoch 18/100\n",
      "10/10 [==============================] - 0s 24ms/step - loss: 53.2531 - reconstruction_loss: 52.7358 - kl_loss: 0.3965\n",
      "Epoch 19/100\n",
      "10/10 [==============================] - 0s 24ms/step - loss: 52.7759 - reconstruction_loss: 52.2577 - kl_loss: 0.3821\n",
      "Epoch 20/100\n",
      "10/10 [==============================] - 0s 25ms/step - loss: 52.1509 - reconstruction_loss: 51.8083 - kl_loss: 0.3704\n",
      "Epoch 21/100\n",
      "10/10 [==============================] - 0s 25ms/step - loss: 51.8102 - reconstruction_loss: 51.3602 - kl_loss: 0.3622\n",
      "Epoch 22/100\n",
      "10/10 [==============================] - 0s 25ms/step - loss: 51.3686 - reconstruction_loss: 50.9235 - kl_loss: 0.3567\n",
      "Epoch 23/100\n",
      "10/10 [==============================] - 0s 24ms/step - loss: 50.9159 - reconstruction_loss: 50.4763 - kl_loss: 0.3543\n",
      "Epoch 24/100\n",
      "10/10 [==============================] - 0s 24ms/step - loss: 50.5937 - reconstruction_loss: 50.0412 - kl_loss: 0.3524\n",
      "Epoch 25/100\n",
      "10/10 [==============================] - 0s 25ms/step - loss: 50.1237 - reconstruction_loss: 49.6283 - kl_loss: 0.3497\n",
      "Epoch 26/100\n",
      "10/10 [==============================] - 0s 24ms/step - loss: 49.4422 - reconstruction_loss: 49.2584 - kl_loss: 0.3502\n",
      "Epoch 27/100\n",
      "10/10 [==============================] - 0s 27ms/step - loss: 49.3124 - reconstruction_loss: 48.8899 - kl_loss: 0.3469\n",
      "Epoch 28/100\n",
      "10/10 [==============================] - 0s 26ms/step - loss: 48.9200 - reconstruction_loss: 48.5748 - kl_loss: 0.3448\n",
      "Epoch 29/100\n",
      "10/10 [==============================] - 0s 25ms/step - loss: 48.5577 - reconstruction_loss: 48.2839 - kl_loss: 0.3423\n",
      "Epoch 30/100\n",
      "10/10 [==============================] - 0s 24ms/step - loss: 48.5539 - reconstruction_loss: 48.0030 - kl_loss: 0.3387\n",
      "Epoch 31/100\n",
      "10/10 [==============================] - 0s 25ms/step - loss: 48.2862 - reconstruction_loss: 47.7500 - kl_loss: 0.3354\n",
      "Epoch 32/100\n",
      "10/10 [==============================] - 0s 26ms/step - loss: 47.9304 - reconstruction_loss: 47.4956 - kl_loss: 0.3360\n",
      "Epoch 33/100\n",
      "10/10 [==============================] - 0s 29ms/step - loss: 47.6907 - reconstruction_loss: 47.2963 - kl_loss: 0.3322\n",
      "Epoch 34/100\n",
      "10/10 [==============================] - 0s 25ms/step - loss: 47.4668 - reconstruction_loss: 47.0744 - kl_loss: 0.3285\n",
      "Epoch 35/100\n",
      "10/10 [==============================] - 0s 24ms/step - loss: 47.2741 - reconstruction_loss: 46.9029 - kl_loss: 0.3276\n",
      "Epoch 36/100\n",
      "10/10 [==============================] - 0s 28ms/step - loss: 47.0410 - reconstruction_loss: 46.7303 - kl_loss: 0.3276\n",
      "Epoch 37/100\n",
      "10/10 [==============================] - 0s 27ms/step - loss: 47.0022 - reconstruction_loss: 46.5708 - kl_loss: 0.3248\n",
      "Epoch 38/100\n",
      "10/10 [==============================] - 0s 28ms/step - loss: 46.7292 - reconstruction_loss: 46.3646 - kl_loss: 0.3219\n",
      "Epoch 39/100\n",
      "10/10 [==============================] - 0s 27ms/step - loss: 46.2067 - reconstruction_loss: 46.2260 - kl_loss: 0.3237\n",
      "Epoch 40/100\n",
      "10/10 [==============================] - 0s 24ms/step - loss: 46.5196 - reconstruction_loss: 46.0626 - kl_loss: 0.3208\n",
      "Epoch 41/100\n",
      "10/10 [==============================] - 0s 25ms/step - loss: 46.4390 - reconstruction_loss: 45.9619 - kl_loss: 0.3180\n",
      "Epoch 42/100\n",
      "10/10 [==============================] - 0s 27ms/step - loss: 46.2624 - reconstruction_loss: 45.8600 - kl_loss: 0.3196\n",
      "Epoch 43/100\n",
      "10/10 [==============================] - 0s 29ms/step - loss: 46.0050 - reconstruction_loss: 45.6929 - kl_loss: 0.3182\n",
      "Epoch 44/100\n",
      "10/10 [==============================] - 0s 30ms/step - loss: 45.7418 - reconstruction_loss: 45.5446 - kl_loss: 0.3132\n",
      "Epoch 45/100\n",
      "10/10 [==============================] - 0s 31ms/step - loss: 45.6230 - reconstruction_loss: 45.4946 - kl_loss: 0.3131\n",
      "Epoch 46/100\n",
      "10/10 [==============================] - 0s 26ms/step - loss: 45.5397 - reconstruction_loss: 45.3160 - kl_loss: 0.3148\n",
      "Epoch 47/100\n",
      "10/10 [==============================] - 0s 25ms/step - loss: 45.7969 - reconstruction_loss: 45.1726 - kl_loss: 0.3111\n",
      "Epoch 48/100\n",
      "10/10 [==============================] - 0s 27ms/step - loss: 45.3547 - reconstruction_loss: 45.0480 - kl_loss: 0.3083\n",
      "Epoch 49/100\n",
      "10/10 [==============================] - 0s 28ms/step - loss: 45.3566 - reconstruction_loss: 44.9329 - kl_loss: 0.3094\n",
      "Epoch 50/100\n",
      "10/10 [==============================] - 0s 28ms/step - loss: 45.1556 - reconstruction_loss: 44.8463 - kl_loss: 0.3074\n",
      "Epoch 51/100\n",
      "10/10 [==============================] - 0s 27ms/step - loss: 45.0765 - reconstruction_loss: 44.7634 - kl_loss: 0.3068\n",
      "Epoch 52/100\n",
      "10/10 [==============================] - 0s 29ms/step - loss: 44.9453 - reconstruction_loss: 44.6687 - kl_loss: 0.3075\n",
      "Epoch 53/100\n",
      "10/10 [==============================] - 0s 31ms/step - loss: 44.9539 - reconstruction_loss: 44.6205 - kl_loss: 0.3051\n",
      "Epoch 54/100\n",
      "10/10 [==============================] - 0s 27ms/step - loss: 44.6840 - reconstruction_loss: 44.4848 - kl_loss: 0.3043\n",
      "Epoch 55/100\n",
      "10/10 [==============================] - 0s 28ms/step - loss: 44.7587 - reconstruction_loss: 44.3873 - kl_loss: 0.3038\n",
      "Epoch 56/100\n",
      "10/10 [==============================] - 0s 28ms/step - loss: 44.6644 - reconstruction_loss: 44.2895 - kl_loss: 0.3025\n",
      "Epoch 57/100\n",
      "10/10 [==============================] - 0s 28ms/step - loss: 44.7344 - reconstruction_loss: 44.2001 - kl_loss: 0.3010\n",
      "Epoch 58/100\n",
      "10/10 [==============================] - 0s 30ms/step - loss: 44.4961 - reconstruction_loss: 44.0667 - kl_loss: 0.2995\n",
      "Epoch 59/100\n",
      "10/10 [==============================] - 0s 28ms/step - loss: 44.3548 - reconstruction_loss: 43.9622 - kl_loss: 0.3003\n",
      "Epoch 60/100\n",
      "10/10 [==============================] - 0s 29ms/step - loss: 44.4365 - reconstruction_loss: 43.8819 - kl_loss: 0.2985\n",
      "Epoch 61/100\n",
      "10/10 [==============================] - 0s 27ms/step - loss: 43.9863 - reconstruction_loss: 43.8184 - kl_loss: 0.2998\n",
      "Epoch 62/100\n",
      "10/10 [==============================] - 0s 28ms/step - loss: 43.9135 - reconstruction_loss: 43.7378 - kl_loss: 0.2976\n",
      "Epoch 63/100\n",
      "10/10 [==============================] - 0s 27ms/step - loss: 43.8409 - reconstruction_loss: 43.6926 - kl_loss: 0.2978\n",
      "Epoch 64/100\n",
      "10/10 [==============================] - 0s 25ms/step - loss: 44.1141 - reconstruction_loss: 43.7147 - kl_loss: 0.2988\n",
      "Epoch 65/100\n",
      "10/10 [==============================] - 0s 25ms/step - loss: 43.6359 - reconstruction_loss: 43.5310 - kl_loss: 0.2969\n",
      "Epoch 66/100\n",
      "10/10 [==============================] - 0s 27ms/step - loss: 43.7431 - reconstruction_loss: 43.4224 - kl_loss: 0.2966\n",
      "Epoch 67/100\n",
      "10/10 [==============================] - 0s 26ms/step - loss: 43.7530 - reconstruction_loss: 43.3314 - kl_loss: 0.2960\n",
      "Epoch 68/100\n",
      "10/10 [==============================] - 0s 24ms/step - loss: 43.6160 - reconstruction_loss: 43.2904 - kl_loss: 0.2978\n",
      "Epoch 69/100\n",
      "10/10 [==============================] - 0s 24ms/step - loss: 43.5278 - reconstruction_loss: 43.1649 - kl_loss: 0.2961\n",
      "Epoch 70/100\n",
      "10/10 [==============================] - 0s 25ms/step - loss: 43.1868 - reconstruction_loss: 43.0785 - kl_loss: 0.2968\n",
      "Epoch 71/100\n",
      "10/10 [==============================] - 0s 24ms/step - loss: 43.4149 - reconstruction_loss: 42.9897 - kl_loss: 0.2951\n",
      "Epoch 72/100\n",
      "10/10 [==============================] - 0s 24ms/step - loss: 43.1264 - reconstruction_loss: 42.9767 - kl_loss: 0.2932\n",
      "Epoch 73/100\n",
      "10/10 [==============================] - 0s 24ms/step - loss: 43.3239 - reconstruction_loss: 42.8953 - kl_loss: 0.2938\n",
      "Epoch 74/100\n",
      "10/10 [==============================] - 0s 27ms/step - loss: 42.8292 - reconstruction_loss: 42.7791 - kl_loss: 0.2954\n",
      "Epoch 75/100\n",
      "10/10 [==============================] - 0s 24ms/step - loss: 42.9339 - reconstruction_loss: 42.6916 - kl_loss: 0.2942\n",
      "Epoch 76/100\n",
      "10/10 [==============================] - 0s 24ms/step - loss: 42.9004 - reconstruction_loss: 42.5800 - kl_loss: 0.2937\n",
      "Epoch 77/100\n",
      "10/10 [==============================] - 0s 24ms/step - loss: 42.7473 - reconstruction_loss: 42.5240 - kl_loss: 0.2927\n",
      "Epoch 78/100\n",
      "10/10 [==============================] - 0s 24ms/step - loss: 42.8922 - reconstruction_loss: 42.5268 - kl_loss: 0.2927\n",
      "Epoch 79/100\n",
      "10/10 [==============================] - 0s 28ms/step - loss: 42.5116 - reconstruction_loss: 42.4349 - kl_loss: 0.2923\n",
      "Epoch 80/100\n",
      "10/10 [==============================] - 0s 27ms/step - loss: 42.5492 - reconstruction_loss: 42.3744 - kl_loss: 0.2919\n",
      "Epoch 81/100\n",
      "10/10 [==============================] - 0s 26ms/step - loss: 42.5094 - reconstruction_loss: 42.2632 - kl_loss: 0.2922\n",
      "Epoch 82/100\n",
      "10/10 [==============================] - 0s 28ms/step - loss: 42.4383 - reconstruction_loss: 42.1827 - kl_loss: 0.2917\n",
      "Epoch 83/100\n",
      "10/10 [==============================] - 0s 26ms/step - loss: 42.6029 - reconstruction_loss: 42.1450 - kl_loss: 0.2907\n",
      "Epoch 84/100\n",
      "10/10 [==============================] - 0s 27ms/step - loss: 42.4820 - reconstruction_loss: 42.1113 - kl_loss: 0.2925\n",
      "Epoch 85/100\n",
      "10/10 [==============================] - 0s 27ms/step - loss: 42.4932 - reconstruction_loss: 42.0081 - kl_loss: 0.2938\n",
      "Epoch 86/100\n",
      "10/10 [==============================] - 0s 28ms/step - loss: 42.2130 - reconstruction_loss: 41.8905 - kl_loss: 0.2926\n",
      "Epoch 87/100\n",
      "10/10 [==============================] - 0s 32ms/step - loss: 42.2277 - reconstruction_loss: 41.7896 - kl_loss: 0.2920\n",
      "Epoch 88/100\n",
      "10/10 [==============================] - 0s 30ms/step - loss: 42.0027 - reconstruction_loss: 41.8131 - kl_loss: 0.2920\n",
      "Epoch 89/100\n",
      "10/10 [==============================] - 0s 28ms/step - loss: 42.0178 - reconstruction_loss: 41.7716 - kl_loss: 0.2924\n",
      "Epoch 90/100\n",
      "10/10 [==============================] - 0s 28ms/step - loss: 41.8710 - reconstruction_loss: 41.7580 - kl_loss: 0.2916\n",
      "Epoch 91/100\n",
      "10/10 [==============================] - 0s 26ms/step - loss: 41.9519 - reconstruction_loss: 41.6305 - kl_loss: 0.2924\n",
      "Epoch 92/100\n",
      "10/10 [==============================] - 0s 26ms/step - loss: 41.7445 - reconstruction_loss: 41.5884 - kl_loss: 0.2933\n",
      "Epoch 93/100\n",
      "10/10 [==============================] - 0s 26ms/step - loss: 41.7204 - reconstruction_loss: 41.4175 - kl_loss: 0.2919\n",
      "Epoch 94/100\n",
      "10/10 [==============================] - 0s 26ms/step - loss: 41.6987 - reconstruction_loss: 41.3366 - kl_loss: 0.2909\n",
      "Epoch 95/100\n",
      "10/10 [==============================] - 0s 27ms/step - loss: 41.5770 - reconstruction_loss: 41.3063 - kl_loss: 0.2915\n",
      "Epoch 96/100\n",
      "10/10 [==============================] - 0s 26ms/step - loss: 41.6013 - reconstruction_loss: 41.2716 - kl_loss: 0.2914\n",
      "Epoch 97/100\n",
      "10/10 [==============================] - 0s 27ms/step - loss: 41.6939 - reconstruction_loss: 41.2184 - kl_loss: 0.2900\n",
      "Epoch 98/100\n",
      "10/10 [==============================] - 0s 28ms/step - loss: 41.5102 - reconstruction_loss: 41.1377 - kl_loss: 0.2895\n",
      "Epoch 99/100\n",
      "10/10 [==============================] - 0s 27ms/step - loss: 41.4192 - reconstruction_loss: 41.0669 - kl_loss: 0.2889\n",
      "Epoch 100/100\n",
      "10/10 [==============================] - 0s 27ms/step - loss: 41.1153 - reconstruction_loss: 41.0035 - kl_loss: 0.2882\n",
      "WARNING:tensorflow:Compiled the loaded model, but the compiled metrics have yet to be built. `model.compile_metrics` will be empty until you train or evaluate the model.\n",
      "INFO:tensorflow:Assets written to: /home/chayan/NeuroGDAVIS/Results/Models/Mnist/Mnist_VAEencoder/assets\n"
     ]
    },
    {
     "name": "stderr",
     "output_type": "stream",
     "text": [
      "INFO:tensorflow:Assets written to: /home/chayan/NeuroGDAVIS/Results/Models/Mnist/Mnist_VAEencoder/assets\n"
     ]
    },
    {
     "name": "stdout",
     "output_type": "stream",
     "text": [
      "WARNING:tensorflow:Compiled the loaded model, but the compiled metrics have yet to be built. `model.compile_metrics` will be empty until you train or evaluate the model.\n"
     ]
    },
    {
     "name": "stderr",
     "output_type": "stream",
     "text": [
      "WARNING:tensorflow:Compiled the loaded model, but the compiled metrics have yet to be built. `model.compile_metrics` will be empty until you train or evaluate the model.\n"
     ]
    },
    {
     "name": "stdout",
     "output_type": "stream",
     "text": [
      "INFO:tensorflow:Assets written to: /home/chayan/NeuroGDAVIS/Results/Models/Mnist/Mnist_VAEdecoder/assets\n"
     ]
    },
    {
     "name": "stderr",
     "output_type": "stream",
     "text": [
      "INFO:tensorflow:Assets written to: /home/chayan/NeuroGDAVIS/Results/Models/Mnist/Mnist_VAEdecoder/assets\n"
     ]
    },
    {
     "name": "stdout",
     "output_type": "stream",
     "text": [
      "313/313 [==============================] - 1s 1ms/step\n"
     ]
    }
   ],
   "source": [
    "model = VAE.train(X, epoch=100, num_layers=[32, 512], bs=1000)\n",
    "\n",
    "newpath = res_model+dataname+'/'\n",
    "if not os.path.exists(newpath):\n",
    "    os.makedirs(newpath)\n",
    "# Saving the model\n",
    "model.encoder.save(newpath+dataname+'_'+methodname+'encoder')\n",
    "model.decoder.save(newpath+dataname+'_'+methodname+'decoder')\n",
    "\n",
    "# extracting embedding\n",
    "_, _, x_embedding = model.encoder.predict(X)\n",
    "newpath = path_emb+dataname+'/'\n",
    "if not os.path.exists(newpath):\n",
    "    os.makedirs(newpath)\n",
    "pd.DataFrame(x_embedding).to_csv(newpath+dataname+'_'+methodname+'.csv')"
   ]
  },
  {
   "cell_type": "code",
   "execution_count": null,
   "id": "c0bdcd89-effe-4623-bf34-7a92e9cceb26",
   "metadata": {},
   "outputs": [],
   "source": []
  }
 ],
 "metadata": {
  "kernelspec": {
   "display_name": "Python 3 (ipykernel)",
   "language": "python",
   "name": "python3"
  },
  "language_info": {
   "codemirror_mode": {
    "name": "ipython",
    "version": 3
   },
   "file_extension": ".py",
   "mimetype": "text/x-python",
   "name": "python",
   "nbconvert_exporter": "python",
   "pygments_lexer": "ipython3",
   "version": "3.11.0"
  }
 },
 "nbformat": 4,
 "nbformat_minor": 5
}
