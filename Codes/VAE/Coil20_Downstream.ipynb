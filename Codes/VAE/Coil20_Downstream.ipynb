{
 "cells": [
  {
   "cell_type": "markdown",
   "id": "4eeebcd0-d167-4886-8f7c-41444f54fb4e",
   "metadata": {},
   "source": [
    "# Paths"
   ]
  },
  {
   "cell_type": "code",
   "execution_count": 1,
   "id": "ac91611b-0936-4f98-9e8d-97181456b833",
   "metadata": {},
   "outputs": [],
   "source": [
    "path = '/home/tih_isi_7/G-NeuroDAVIS/'\n",
    "res_plots = path + 'Results/Plots/'\n",
    "path_emb = path + 'Data/Embeddings/'\n",
    "path_tab = path + 'Results/Tables/'"
   ]
  },
  {
   "cell_type": "markdown",
   "id": "c316981d-1615-41da-a1c9-b738ccfd660d",
   "metadata": {},
   "source": [
    "# Importing libraries"
   ]
  },
  {
   "cell_type": "code",
   "execution_count": 2,
   "id": "7d3c1f08-cfaf-482f-ac40-70ede91fbba8",
   "metadata": {},
   "outputs": [],
   "source": [
    "import warnings\n",
    "warnings.simplefilter(action='ignore', category=FutureWarning)\n",
    "\n",
    "import sys\n",
    "sys.path.append(path)\n",
    "\n",
    "import os\n",
    "os.environ['TF_CPP_MIN_LOG_LEVEL'] = '3'\n",
    "\n",
    "import keras\n",
    "import ipynbname\n",
    "import numpy as np\n",
    "import pandas as pd\n",
    "from tqdm import tqdm\n",
    "import matplotlib.pyplot as plt\n",
    "from utils import Datasets as ds\n",
    "from keras.models import load_model\n",
    "from utils import DownstreamAnalysis as DA\n",
    "\n",
    "dataname = ipynbname.name().rsplit(\"_\")[0]\n",
    "txt = %pwd\n",
    "methodname = txt.rsplit(\"/\")[-1]"
   ]
  },
  {
   "cell_type": "markdown",
   "id": "3652554f-7234-4fa7-8421-dfc730d8f90d",
   "metadata": {},
   "source": [
    "# Load labels and embeddings"
   ]
  },
  {
   "cell_type": "code",
   "execution_count": 3,
   "id": "078de0c1-1e7d-439f-992f-56a620601ac6",
   "metadata": {},
   "outputs": [],
   "source": [
    "y = ds.LoadData(dataname, DType='None', LType=True)\n",
    "x_embedding = np.array(pd.read_csv(path_emb+dataname+'/'+dataname+'_'+methodname+'.csv', index_col=0, header=0))"
   ]
  },
  {
   "cell_type": "markdown",
   "id": "3fac58ca-56e2-4b6d-9e32-d9753edb202b",
   "metadata": {},
   "source": [
    "# Downstream analysis"
   ]
  },
  {
   "cell_type": "markdown",
   "id": "d1158d5d-7c13-45dc-9af1-31f20bffe8a8",
   "metadata": {},
   "source": [
    "### k-NN"
   ]
  },
  {
   "cell_type": "code",
   "execution_count": 4,
   "id": "323e3b30-34c8-448d-99a1-752139df2953",
   "metadata": {},
   "outputs": [
    {
     "data": {
      "text/html": [
       "<div>\n",
       "<style scoped>\n",
       "    .dataframe tbody tr th:only-of-type {\n",
       "        vertical-align: middle;\n",
       "    }\n",
       "\n",
       "    .dataframe tbody tr th {\n",
       "        vertical-align: top;\n",
       "    }\n",
       "\n",
       "    .dataframe thead th {\n",
       "        text-align: right;\n",
       "    }\n",
       "</style>\n",
       "<table border=\"1\" class=\"dataframe\">\n",
       "  <thead>\n",
       "    <tr style=\"text-align: right;\">\n",
       "      <th></th>\n",
       "      <th>Accuracy</th>\n",
       "      <th>Precision</th>\n",
       "      <th>Recall</th>\n",
       "      <th>F1-Score</th>\n",
       "    </tr>\n",
       "  </thead>\n",
       "  <tbody>\n",
       "    <tr>\n",
       "      <th>neighbour 5</th>\n",
       "      <td>0.791667</td>\n",
       "      <td>0.785225</td>\n",
       "      <td>0.791667</td>\n",
       "      <td>0.782398</td>\n",
       "    </tr>\n",
       "    <tr>\n",
       "      <th>neighbour 15</th>\n",
       "      <td>0.763889</td>\n",
       "      <td>0.757420</td>\n",
       "      <td>0.763889</td>\n",
       "      <td>0.746321</td>\n",
       "    </tr>\n",
       "    <tr>\n",
       "      <th>neighbour 25</th>\n",
       "      <td>0.743056</td>\n",
       "      <td>0.747535</td>\n",
       "      <td>0.743056</td>\n",
       "      <td>0.725264</td>\n",
       "    </tr>\n",
       "    <tr>\n",
       "      <th>neighbour 35</th>\n",
       "      <td>0.736111</td>\n",
       "      <td>0.741925</td>\n",
       "      <td>0.736111</td>\n",
       "      <td>0.719041</td>\n",
       "    </tr>\n",
       "    <tr>\n",
       "      <th>neighbour 45</th>\n",
       "      <td>0.718750</td>\n",
       "      <td>0.713187</td>\n",
       "      <td>0.718750</td>\n",
       "      <td>0.698008</td>\n",
       "    </tr>\n",
       "  </tbody>\n",
       "</table>\n",
       "</div>"
      ],
      "text/plain": [
       "              Accuracy  Precision    Recall  F1-Score\n",
       "neighbour 5   0.791667   0.785225  0.791667  0.782398\n",
       "neighbour 15  0.763889   0.757420  0.763889  0.746321\n",
       "neighbour 25  0.743056   0.747535  0.743056  0.725264\n",
       "neighbour 35  0.736111   0.741925  0.736111  0.719041\n",
       "neighbour 45  0.718750   0.713187  0.718750  0.698008"
      ]
     },
     "execution_count": 4,
     "metadata": {},
     "output_type": "execute_result"
    }
   ],
   "source": [
    "neighbour = [5, 15, 25, 35, 45]\n",
    "Score_knn = []\n",
    "for n in neighbour:\n",
    "    Score_knn.append(DA.Knn(x_embedding, y['x'], n))\n",
    "Score_knn = pd.DataFrame(Score_knn, index=['neighbour '+ str(s) for s in neighbour],\n",
    "                         columns = ['Accuracy', 'Precision','Recall','F1-Score'])\n",
    "Score_knn.to_csv(path_tab+dataname+'_'+methodname+'_knn.csv')\n",
    "Score_knn"
   ]
  },
  {
   "cell_type": "markdown",
   "id": "4757c522-827f-4dd0-b96a-30a924c56df3",
   "metadata": {},
   "source": [
    "### Random Forest"
   ]
  },
  {
   "cell_type": "code",
   "execution_count": 5,
   "id": "922beea3-2073-4d6a-82b5-f0791dabe022",
   "metadata": {},
   "outputs": [
    {
     "data": {
      "text/html": [
       "<div>\n",
       "<style scoped>\n",
       "    .dataframe tbody tr th:only-of-type {\n",
       "        vertical-align: middle;\n",
       "    }\n",
       "\n",
       "    .dataframe tbody tr th {\n",
       "        vertical-align: top;\n",
       "    }\n",
       "\n",
       "    .dataframe thead th {\n",
       "        text-align: right;\n",
       "    }\n",
       "</style>\n",
       "<table border=\"1\" class=\"dataframe\">\n",
       "  <thead>\n",
       "    <tr style=\"text-align: right;\">\n",
       "      <th></th>\n",
       "      <th>Accuracy</th>\n",
       "      <th>Precision</th>\n",
       "      <th>Recall</th>\n",
       "      <th>F1-Score</th>\n",
       "    </tr>\n",
       "  </thead>\n",
       "  <tbody>\n",
       "    <tr>\n",
       "      <th>n_tree 20</th>\n",
       "      <td>0.763889</td>\n",
       "      <td>0.758345</td>\n",
       "      <td>0.763889</td>\n",
       "      <td>0.753899</td>\n",
       "    </tr>\n",
       "    <tr>\n",
       "      <th>n_tree 40</th>\n",
       "      <td>0.767361</td>\n",
       "      <td>0.766890</td>\n",
       "      <td>0.767361</td>\n",
       "      <td>0.761949</td>\n",
       "    </tr>\n",
       "    <tr>\n",
       "      <th>n_tree 60</th>\n",
       "      <td>0.763889</td>\n",
       "      <td>0.759907</td>\n",
       "      <td>0.763889</td>\n",
       "      <td>0.756353</td>\n",
       "    </tr>\n",
       "    <tr>\n",
       "      <th>n_tree 80</th>\n",
       "      <td>0.774306</td>\n",
       "      <td>0.771698</td>\n",
       "      <td>0.774306</td>\n",
       "      <td>0.766477</td>\n",
       "    </tr>\n",
       "    <tr>\n",
       "      <th>n_tree 100</th>\n",
       "      <td>0.777778</td>\n",
       "      <td>0.776129</td>\n",
       "      <td>0.777778</td>\n",
       "      <td>0.769756</td>\n",
       "    </tr>\n",
       "  </tbody>\n",
       "</table>\n",
       "</div>"
      ],
      "text/plain": [
       "            Accuracy  Precision    Recall  F1-Score\n",
       "n_tree 20   0.763889   0.758345  0.763889  0.753899\n",
       "n_tree 40   0.767361   0.766890  0.767361  0.761949\n",
       "n_tree 60   0.763889   0.759907  0.763889  0.756353\n",
       "n_tree 80   0.774306   0.771698  0.774306  0.766477\n",
       "n_tree 100  0.777778   0.776129  0.777778  0.769756"
      ]
     },
     "execution_count": 5,
     "metadata": {},
     "output_type": "execute_result"
    }
   ],
   "source": [
    "n_tree = [20,40,60,80,100]\n",
    "Score_rfc = []\n",
    "for n in n_tree:\n",
    "    Score_rfc.append(DA.RFC(x_embedding, y['x'], n))\n",
    "Score_rfc = pd.DataFrame(Score_rfc, index=['n_tree '+ str(s) for s in n_tree],\n",
    "                         columns = ['Accuracy', 'Precision','Recall','F1-Score'])\n",
    "Score_rfc.to_csv(path_tab+dataname+'_'+methodname+'_rfc.csv')\n",
    "Score_rfc"
   ]
  },
  {
   "cell_type": "markdown",
   "id": "7934a402-a92c-4c0a-8305-94a81e6d5d1e",
   "metadata": {},
   "source": [
    "### k-Means"
   ]
  },
  {
   "cell_type": "code",
   "execution_count": 6,
   "id": "8861e767-01c3-4259-ac02-73867b5a717c",
   "metadata": {},
   "outputs": [
    {
     "name": "stderr",
     "output_type": "stream",
     "text": [
      "Progress: 100%|█████████████████████████████████| 10/10 [00:01<00:00,  8.91it/s]\n"
     ]
    },
    {
     "data": {
      "text/html": [
       "<div>\n",
       "<style scoped>\n",
       "    .dataframe tbody tr th:only-of-type {\n",
       "        vertical-align: middle;\n",
       "    }\n",
       "\n",
       "    .dataframe tbody tr th {\n",
       "        vertical-align: top;\n",
       "    }\n",
       "\n",
       "    .dataframe thead th {\n",
       "        text-align: right;\n",
       "    }\n",
       "</style>\n",
       "<table border=\"1\" class=\"dataframe\">\n",
       "  <thead>\n",
       "    <tr style=\"text-align: right;\">\n",
       "      <th></th>\n",
       "      <th>ARI</th>\n",
       "      <th>FMI</th>\n",
       "      <th>NMI</th>\n",
       "    </tr>\n",
       "  </thead>\n",
       "  <tbody>\n",
       "    <tr>\n",
       "      <th>0</th>\n",
       "      <td>0.529609</td>\n",
       "      <td>0.711643</td>\n",
       "      <td>0.554321</td>\n",
       "    </tr>\n",
       "    <tr>\n",
       "      <th>1</th>\n",
       "      <td>0.515346</td>\n",
       "      <td>0.703392</td>\n",
       "      <td>0.540568</td>\n",
       "    </tr>\n",
       "    <tr>\n",
       "      <th>2</th>\n",
       "      <td>0.495042</td>\n",
       "      <td>0.696031</td>\n",
       "      <td>0.521984</td>\n",
       "    </tr>\n",
       "    <tr>\n",
       "      <th>3</th>\n",
       "      <td>0.506761</td>\n",
       "      <td>0.703102</td>\n",
       "      <td>0.532979</td>\n",
       "    </tr>\n",
       "    <tr>\n",
       "      <th>4</th>\n",
       "      <td>0.509824</td>\n",
       "      <td>0.704343</td>\n",
       "      <td>0.535864</td>\n",
       "    </tr>\n",
       "    <tr>\n",
       "      <th>5</th>\n",
       "      <td>0.525488</td>\n",
       "      <td>0.717239</td>\n",
       "      <td>0.549921</td>\n",
       "    </tr>\n",
       "    <tr>\n",
       "      <th>6</th>\n",
       "      <td>0.510304</td>\n",
       "      <td>0.705365</td>\n",
       "      <td>0.536739</td>\n",
       "    </tr>\n",
       "    <tr>\n",
       "      <th>7</th>\n",
       "      <td>0.506047</td>\n",
       "      <td>0.702941</td>\n",
       "      <td>0.532317</td>\n",
       "    </tr>\n",
       "    <tr>\n",
       "      <th>8</th>\n",
       "      <td>0.512786</td>\n",
       "      <td>0.704636</td>\n",
       "      <td>0.538398</td>\n",
       "    </tr>\n",
       "    <tr>\n",
       "      <th>9</th>\n",
       "      <td>0.520216</td>\n",
       "      <td>0.707365</td>\n",
       "      <td>0.545191</td>\n",
       "    </tr>\n",
       "  </tbody>\n",
       "</table>\n",
       "</div>"
      ],
      "text/plain": [
       "        ARI       FMI       NMI\n",
       "0  0.529609  0.711643  0.554321\n",
       "1  0.515346  0.703392  0.540568\n",
       "2  0.495042  0.696031  0.521984\n",
       "3  0.506761  0.703102  0.532979\n",
       "4  0.509824  0.704343  0.535864\n",
       "5  0.525488  0.717239  0.549921\n",
       "6  0.510304  0.705365  0.536739\n",
       "7  0.506047  0.702941  0.532317\n",
       "8  0.512786  0.704636  0.538398\n",
       "9  0.520216  0.707365  0.545191"
      ]
     },
     "execution_count": 6,
     "metadata": {},
     "output_type": "execute_result"
    }
   ],
   "source": [
    "iteration = 10\n",
    "Results_km = []\n",
    "\n",
    "for i in tqdm(range(iteration), desc='Progress'):\n",
    "    Results_km.append(DA.kmeans(x_embedding, y['x']))\n",
    "    \n",
    "Results_km = pd.DataFrame(Results_km,columns = ['ARI', 'FMI','NMI'])\n",
    "Results_km"
   ]
  },
  {
   "cell_type": "markdown",
   "id": "ab906b1b-48ac-45e0-8451-64d30ae0d8cb",
   "metadata": {},
   "source": [
    "### Agglomerative "
   ]
  },
  {
   "cell_type": "code",
   "execution_count": 7,
   "id": "48119672-2fb2-45b0-8b85-90a664318bf5",
   "metadata": {},
   "outputs": [
    {
     "data": {
      "text/html": [
       "<div>\n",
       "<style scoped>\n",
       "    .dataframe tbody tr th:only-of-type {\n",
       "        vertical-align: middle;\n",
       "    }\n",
       "\n",
       "    .dataframe tbody tr th {\n",
       "        vertical-align: top;\n",
       "    }\n",
       "\n",
       "    .dataframe thead th {\n",
       "        text-align: right;\n",
       "    }\n",
       "</style>\n",
       "<table border=\"1\" class=\"dataframe\">\n",
       "  <thead>\n",
       "    <tr style=\"text-align: right;\">\n",
       "      <th></th>\n",
       "      <th>ARI</th>\n",
       "      <th>FMI</th>\n",
       "      <th>NMI</th>\n",
       "    </tr>\n",
       "  </thead>\n",
       "  <tbody>\n",
       "    <tr>\n",
       "      <th>0</th>\n",
       "      <td>0.535991</td>\n",
       "      <td>0.725557</td>\n",
       "      <td>0.561619</td>\n",
       "    </tr>\n",
       "  </tbody>\n",
       "</table>\n",
       "</div>"
      ],
      "text/plain": [
       "        ARI       FMI       NMI\n",
       "0  0.535991  0.725557  0.561619"
      ]
     },
     "execution_count": 7,
     "metadata": {},
     "output_type": "execute_result"
    }
   ],
   "source": [
    "idx = ['ARI', 'FMI','NMI']\n",
    "AglScore = pd.DataFrame(DA.Agglomerative(x_embedding, y['x']), index = idx)    #seurat_clusters, Cluster, celltype.l2\n",
    "AglScore.T"
   ]
  },
  {
   "cell_type": "code",
   "execution_count": null,
   "id": "64e9ca87-4f62-4d79-bbcc-fa4c5aadb803",
   "metadata": {},
   "outputs": [],
   "source": []
  }
 ],
 "metadata": {
  "kernelspec": {
   "display_name": "Python 3 (ipykernel)",
   "language": "python",
   "name": "python3"
  },
  "language_info": {
   "codemirror_mode": {
    "name": "ipython",
    "version": 3
   },
   "file_extension": ".py",
   "mimetype": "text/x-python",
   "name": "python",
   "nbconvert_exporter": "python",
   "pygments_lexer": "ipython3",
   "version": "3.11.5"
  }
 },
 "nbformat": 4,
 "nbformat_minor": 5
}
