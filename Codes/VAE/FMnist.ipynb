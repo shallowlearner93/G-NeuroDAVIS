{
 "cells": [
  {
   "cell_type": "markdown",
   "id": "34ec4a31-5b15-44b5-9a4b-8581445cd4ed",
   "metadata": {},
   "source": [
    "# Paths"
   ]
  },
  {
   "cell_type": "code",
   "execution_count": 1,
   "id": "f22cdcde-7588-4200-b197-e21ffd91090a",
   "metadata": {},
   "outputs": [],
   "source": [
    "path = '/home/chayan/NeuroGDAVIS/'\n",
    "res_plots = path + 'Results/Plots/'\n",
    "res_model = path + 'Results/Models/'\n",
    "path_emb = path + 'Data/Embeddings/'"
   ]
  },
  {
   "cell_type": "markdown",
   "id": "e33475cf",
   "metadata": {},
   "source": [
    "# Importing Libraries"
   ]
  },
  {
   "cell_type": "code",
   "execution_count": 2,
   "id": "ff09bcc0",
   "metadata": {},
   "outputs": [],
   "source": [
    "import sys\n",
    "sys.path.append(path)\n",
    "\n",
    "import os\n",
    "os.environ['TF_CPP_MIN_LOG_LEVEL'] = '3'\n",
    "\n",
    "import keras\n",
    "import ipynbname\n",
    "import numpy as np\n",
    "import pandas as pd\n",
    "from utils import VAE\n",
    "import matplotlib.pyplot as plt\n",
    "from utils import Datasets as ds \n",
    "\n",
    "dataname = ipynbname.name().rsplit(\"_\")[0]\n",
    "txt = %pwd\n",
    "methodname = txt.rsplit(\"/\")[-1]"
   ]
  },
  {
   "cell_type": "markdown",
   "id": "ef1a3424",
   "metadata": {},
   "source": [
    "# Importing datasets"
   ]
  },
  {
   "cell_type": "code",
   "execution_count": 3,
   "id": "2d7327c6",
   "metadata": {},
   "outputs": [],
   "source": [
    "X, y = ds.LoadData(dataname, DType='test')"
   ]
  },
  {
   "cell_type": "markdown",
   "id": "aac400d0",
   "metadata": {},
   "source": [
    "# Run VAE"
   ]
  },
  {
   "cell_type": "code",
   "execution_count": 4,
   "id": "7003c396",
   "metadata": {
    "scrolled": true
   },
   "outputs": [
    {
     "name": "stdout",
     "output_type": "stream",
     "text": [
      "Epoch 1/100\n",
      "10/10 [==============================] - 1s 25ms/step - loss: 152.1115 - reconstruction_loss: 133.6727 - kl_loss: 0.9891\n",
      "Epoch 2/100\n",
      "10/10 [==============================] - 0s 25ms/step - loss: 97.6026 - reconstruction_loss: 93.8403 - kl_loss: 1.7482\n",
      "Epoch 3/100\n",
      "10/10 [==============================] - 0s 26ms/step - loss: 85.7136 - reconstruction_loss: 81.2693 - kl_loss: 1.0080\n",
      "Epoch 4/100\n",
      "10/10 [==============================] - 0s 25ms/step - loss: 70.7906 - reconstruction_loss: 67.8692 - kl_loss: 0.9778\n",
      "Epoch 5/100\n",
      "10/10 [==============================] - 0s 24ms/step - loss: 64.3130 - reconstruction_loss: 62.3881 - kl_loss: 0.9286\n",
      "Epoch 6/100\n",
      "10/10 [==============================] - 0s 25ms/step - loss: 59.9486 - reconstruction_loss: 57.8884 - kl_loss: 0.9306\n",
      "Epoch 7/100\n",
      "10/10 [==============================] - 0s 25ms/step - loss: 54.6666 - reconstruction_loss: 52.4627 - kl_loss: 1.0134\n",
      "Epoch 8/100\n",
      "10/10 [==============================] - 0s 25ms/step - loss: 49.9411 - reconstruction_loss: 48.2713 - kl_loss: 1.0523\n",
      "Epoch 9/100\n",
      "10/10 [==============================] - 0s 25ms/step - loss: 47.2059 - reconstruction_loss: 45.8728 - kl_loss: 0.9301\n",
      "Epoch 10/100\n",
      "10/10 [==============================] - 0s 24ms/step - loss: 45.5575 - reconstruction_loss: 44.1651 - kl_loss: 0.7972\n",
      "Epoch 11/100\n",
      "10/10 [==============================] - 0s 25ms/step - loss: 43.4854 - reconstruction_loss: 42.6539 - kl_loss: 0.7085\n",
      "Epoch 12/100\n",
      "10/10 [==============================] - 0s 24ms/step - loss: 42.5207 - reconstruction_loss: 41.3046 - kl_loss: 0.6642\n",
      "Epoch 13/100\n",
      "10/10 [==============================] - 0s 26ms/step - loss: 40.8983 - reconstruction_loss: 40.1442 - kl_loss: 0.6290\n",
      "Epoch 14/100\n",
      "10/10 [==============================] - 0s 26ms/step - loss: 40.1911 - reconstruction_loss: 39.1814 - kl_loss: 0.6129\n",
      "Epoch 15/100\n",
      "10/10 [==============================] - 0s 24ms/step - loss: 39.3992 - reconstruction_loss: 38.3643 - kl_loss: 0.6029\n",
      "Epoch 16/100\n",
      "10/10 [==============================] - 0s 24ms/step - loss: 38.0494 - reconstruction_loss: 37.6888 - kl_loss: 0.5822\n",
      "Epoch 17/100\n",
      "10/10 [==============================] - 0s 24ms/step - loss: 37.7537 - reconstruction_loss: 37.1223 - kl_loss: 0.5718\n",
      "Epoch 18/100\n",
      "10/10 [==============================] - 0s 25ms/step - loss: 37.2873 - reconstruction_loss: 36.4748 - kl_loss: 0.5632\n",
      "Epoch 19/100\n",
      "10/10 [==============================] - 0s 24ms/step - loss: 36.7366 - reconstruction_loss: 35.8240 - kl_loss: 0.5563\n",
      "Epoch 20/100\n",
      "10/10 [==============================] - 0s 24ms/step - loss: 35.7340 - reconstruction_loss: 35.3492 - kl_loss: 0.5464\n",
      "Epoch 21/100\n",
      "10/10 [==============================] - 0s 24ms/step - loss: 35.5700 - reconstruction_loss: 34.9386 - kl_loss: 0.5337\n",
      "Epoch 22/100\n",
      "10/10 [==============================] - 0s 24ms/step - loss: 35.3122 - reconstruction_loss: 34.5477 - kl_loss: 0.5212\n",
      "Epoch 23/100\n",
      "10/10 [==============================] - 0s 25ms/step - loss: 34.6694 - reconstruction_loss: 34.2662 - kl_loss: 0.5083\n",
      "Epoch 24/100\n",
      "10/10 [==============================] - 0s 24ms/step - loss: 34.7407 - reconstruction_loss: 34.0456 - kl_loss: 0.4937\n",
      "Epoch 25/100\n",
      "10/10 [==============================] - 0s 24ms/step - loss: 34.1351 - reconstruction_loss: 33.7646 - kl_loss: 0.4844\n",
      "Epoch 26/100\n",
      "10/10 [==============================] - 0s 24ms/step - loss: 34.1520 - reconstruction_loss: 33.5932 - kl_loss: 0.4735\n",
      "Epoch 27/100\n",
      "10/10 [==============================] - 0s 24ms/step - loss: 34.0252 - reconstruction_loss: 33.4959 - kl_loss: 0.4641\n",
      "Epoch 28/100\n",
      "10/10 [==============================] - 0s 24ms/step - loss: 33.8147 - reconstruction_loss: 33.2444 - kl_loss: 0.4554\n",
      "Epoch 29/100\n",
      "10/10 [==============================] - 0s 24ms/step - loss: 33.3150 - reconstruction_loss: 32.9755 - kl_loss: 0.4475\n",
      "Epoch 30/100\n",
      "10/10 [==============================] - 0s 24ms/step - loss: 33.1919 - reconstruction_loss: 32.7924 - kl_loss: 0.4369\n",
      "Epoch 31/100\n",
      "10/10 [==============================] - 0s 25ms/step - loss: 32.8860 - reconstruction_loss: 32.5706 - kl_loss: 0.4259\n",
      "Epoch 32/100\n",
      "10/10 [==============================] - 0s 24ms/step - loss: 32.8152 - reconstruction_loss: 32.4122 - kl_loss: 0.4229\n",
      "Epoch 33/100\n",
      "10/10 [==============================] - 0s 24ms/step - loss: 32.7125 - reconstruction_loss: 32.2938 - kl_loss: 0.4127\n",
      "Epoch 34/100\n",
      "10/10 [==============================] - 0s 25ms/step - loss: 32.1277 - reconstruction_loss: 32.1142 - kl_loss: 0.4102\n",
      "Epoch 35/100\n",
      "10/10 [==============================] - 0s 24ms/step - loss: 32.2841 - reconstruction_loss: 32.0300 - kl_loss: 0.4011\n",
      "Epoch 36/100\n",
      "10/10 [==============================] - 0s 24ms/step - loss: 32.4466 - reconstruction_loss: 32.0497 - kl_loss: 0.3967\n",
      "Epoch 37/100\n",
      "10/10 [==============================] - 0s 24ms/step - loss: 32.4771 - reconstruction_loss: 31.9682 - kl_loss: 0.3935\n",
      "Epoch 38/100\n",
      "10/10 [==============================] - 0s 25ms/step - loss: 31.8055 - reconstruction_loss: 31.7501 - kl_loss: 0.3815\n",
      "Epoch 39/100\n",
      "10/10 [==============================] - 0s 24ms/step - loss: 32.0502 - reconstruction_loss: 31.6275 - kl_loss: 0.3800\n",
      "Epoch 40/100\n",
      "10/10 [==============================] - 0s 24ms/step - loss: 31.7641 - reconstruction_loss: 31.4784 - kl_loss: 0.3760\n",
      "Epoch 41/100\n",
      "10/10 [==============================] - 0s 24ms/step - loss: 31.8570 - reconstruction_loss: 31.3710 - kl_loss: 0.3701\n",
      "Epoch 42/100\n",
      "10/10 [==============================] - 0s 24ms/step - loss: 31.5247 - reconstruction_loss: 31.2594 - kl_loss: 0.3649\n",
      "Epoch 43/100\n",
      "10/10 [==============================] - 0s 25ms/step - loss: 31.5946 - reconstruction_loss: 31.1775 - kl_loss: 0.3640\n",
      "Epoch 44/100\n",
      "10/10 [==============================] - 0s 24ms/step - loss: 31.3048 - reconstruction_loss: 31.1829 - kl_loss: 0.3600\n",
      "Epoch 45/100\n",
      "10/10 [==============================] - 0s 25ms/step - loss: 31.6265 - reconstruction_loss: 31.1216 - kl_loss: 0.3585\n",
      "Epoch 46/100\n",
      "10/10 [==============================] - 0s 24ms/step - loss: 31.1560 - reconstruction_loss: 30.9236 - kl_loss: 0.3535\n",
      "Epoch 47/100\n",
      "10/10 [==============================] - 0s 25ms/step - loss: 31.0609 - reconstruction_loss: 30.7771 - kl_loss: 0.3523\n",
      "Epoch 48/100\n",
      "10/10 [==============================] - 0s 24ms/step - loss: 31.0851 - reconstruction_loss: 30.6638 - kl_loss: 0.3473\n",
      "Epoch 49/100\n",
      "10/10 [==============================] - 0s 24ms/step - loss: 30.9965 - reconstruction_loss: 30.6554 - kl_loss: 0.3478\n",
      "Epoch 50/100\n",
      "10/10 [==============================] - 0s 24ms/step - loss: 30.8617 - reconstruction_loss: 30.5126 - kl_loss: 0.3433\n",
      "Epoch 51/100\n",
      "10/10 [==============================] - 0s 24ms/step - loss: 30.6379 - reconstruction_loss: 30.3632 - kl_loss: 0.3398\n",
      "Epoch 52/100\n",
      "10/10 [==============================] - 0s 24ms/step - loss: 30.6092 - reconstruction_loss: 30.3155 - kl_loss: 0.3363\n",
      "Epoch 53/100\n",
      "10/10 [==============================] - 0s 25ms/step - loss: 30.5213 - reconstruction_loss: 30.2239 - kl_loss: 0.3363\n",
      "Epoch 54/100\n",
      "10/10 [==============================] - 0s 24ms/step - loss: 30.5679 - reconstruction_loss: 30.1666 - kl_loss: 0.3333\n",
      "Epoch 55/100\n",
      "10/10 [==============================] - 0s 24ms/step - loss: 30.4660 - reconstruction_loss: 30.0978 - kl_loss: 0.3341\n",
      "Epoch 56/100\n",
      "10/10 [==============================] - 0s 24ms/step - loss: 30.5295 - reconstruction_loss: 30.0374 - kl_loss: 0.3312\n",
      "Epoch 57/100\n",
      "10/10 [==============================] - 0s 24ms/step - loss: 30.0686 - reconstruction_loss: 29.9523 - kl_loss: 0.3278\n",
      "Epoch 58/100\n",
      "10/10 [==============================] - 0s 24ms/step - loss: 30.0216 - reconstruction_loss: 29.8370 - kl_loss: 0.3276\n",
      "Epoch 59/100\n",
      "10/10 [==============================] - 0s 25ms/step - loss: 30.1269 - reconstruction_loss: 29.8863 - kl_loss: 0.3278\n",
      "Epoch 60/100\n",
      "10/10 [==============================] - 0s 24ms/step - loss: 30.1057 - reconstruction_loss: 29.7931 - kl_loss: 0.3229\n",
      "Epoch 61/100\n",
      "10/10 [==============================] - 0s 24ms/step - loss: 29.9650 - reconstruction_loss: 29.7384 - kl_loss: 0.3232\n",
      "Epoch 62/100\n",
      "10/10 [==============================] - 0s 24ms/step - loss: 30.0639 - reconstruction_loss: 29.6371 - kl_loss: 0.3215\n",
      "Epoch 63/100\n",
      "10/10 [==============================] - 0s 24ms/step - loss: 29.9202 - reconstruction_loss: 29.6272 - kl_loss: 0.3200\n",
      "Epoch 64/100\n",
      "10/10 [==============================] - 0s 24ms/step - loss: 29.9443 - reconstruction_loss: 29.4979 - kl_loss: 0.3192\n",
      "Epoch 65/100\n",
      "10/10 [==============================] - 0s 24ms/step - loss: 29.4302 - reconstruction_loss: 29.3710 - kl_loss: 0.3198\n",
      "Epoch 66/100\n",
      "10/10 [==============================] - 0s 25ms/step - loss: 29.6899 - reconstruction_loss: 29.3882 - kl_loss: 0.3185\n",
      "Epoch 67/100\n",
      "10/10 [==============================] - 0s 24ms/step - loss: 29.6113 - reconstruction_loss: 29.3175 - kl_loss: 0.3172\n",
      "Epoch 68/100\n",
      "10/10 [==============================] - 0s 25ms/step - loss: 29.7055 - reconstruction_loss: 29.3777 - kl_loss: 0.3135\n",
      "Epoch 69/100\n",
      "10/10 [==============================] - 0s 24ms/step - loss: 29.5145 - reconstruction_loss: 29.2158 - kl_loss: 0.3157\n",
      "Epoch 70/100\n",
      "10/10 [==============================] - 0s 24ms/step - loss: 29.6987 - reconstruction_loss: 29.2324 - kl_loss: 0.3120\n",
      "Epoch 71/100\n",
      "10/10 [==============================] - 0s 24ms/step - loss: 29.5135 - reconstruction_loss: 29.1405 - kl_loss: 0.3117\n",
      "Epoch 72/100\n",
      "10/10 [==============================] - 0s 25ms/step - loss: 29.4730 - reconstruction_loss: 29.1044 - kl_loss: 0.3095\n",
      "Epoch 73/100\n",
      "10/10 [==============================] - 0s 24ms/step - loss: 29.3816 - reconstruction_loss: 29.0979 - kl_loss: 0.3097\n",
      "Epoch 74/100\n",
      "10/10 [==============================] - 0s 24ms/step - loss: 29.5664 - reconstruction_loss: 29.1840 - kl_loss: 0.3101\n",
      "Epoch 75/100\n",
      "10/10 [==============================] - 0s 25ms/step - loss: 29.4410 - reconstruction_loss: 29.0462 - kl_loss: 0.3099\n",
      "Epoch 76/100\n",
      "10/10 [==============================] - 0s 24ms/step - loss: 29.2993 - reconstruction_loss: 28.9686 - kl_loss: 0.3073\n",
      "Epoch 77/100\n",
      "10/10 [==============================] - 0s 24ms/step - loss: 29.2116 - reconstruction_loss: 28.9164 - kl_loss: 0.3064\n",
      "Epoch 78/100\n",
      "10/10 [==============================] - 0s 25ms/step - loss: 29.1083 - reconstruction_loss: 28.8693 - kl_loss: 0.3039\n",
      "Epoch 79/100\n",
      "10/10 [==============================] - 0s 24ms/step - loss: 29.1680 - reconstruction_loss: 28.8657 - kl_loss: 0.3016\n",
      "Epoch 80/100\n",
      "10/10 [==============================] - 0s 25ms/step - loss: 29.0447 - reconstruction_loss: 28.7479 - kl_loss: 0.3037\n",
      "Epoch 81/100\n",
      "10/10 [==============================] - 0s 24ms/step - loss: 29.1953 - reconstruction_loss: 28.7351 - kl_loss: 0.3019\n",
      "Epoch 82/100\n",
      "10/10 [==============================] - 0s 24ms/step - loss: 28.8449 - reconstruction_loss: 28.6540 - kl_loss: 0.3027\n",
      "Epoch 83/100\n",
      "10/10 [==============================] - 0s 24ms/step - loss: 29.0429 - reconstruction_loss: 28.6838 - kl_loss: 0.2990\n",
      "Epoch 84/100\n",
      "10/10 [==============================] - 0s 24ms/step - loss: 28.7818 - reconstruction_loss: 28.7185 - kl_loss: 0.2996\n",
      "Epoch 85/100\n",
      "10/10 [==============================] - 0s 24ms/step - loss: 28.9433 - reconstruction_loss: 28.5875 - kl_loss: 0.2990\n",
      "Epoch 86/100\n",
      "10/10 [==============================] - 0s 24ms/step - loss: 28.8766 - reconstruction_loss: 28.5358 - kl_loss: 0.2994\n",
      "Epoch 87/100\n",
      "10/10 [==============================] - 0s 24ms/step - loss: 29.1009 - reconstruction_loss: 28.4942 - kl_loss: 0.2976\n",
      "Epoch 88/100\n",
      "10/10 [==============================] - 0s 25ms/step - loss: 28.7287 - reconstruction_loss: 28.4365 - kl_loss: 0.2968\n",
      "Epoch 89/100\n",
      "10/10 [==============================] - 0s 24ms/step - loss: 28.7859 - reconstruction_loss: 28.4155 - kl_loss: 0.2958\n",
      "Epoch 90/100\n",
      "10/10 [==============================] - 0s 24ms/step - loss: 28.7613 - reconstruction_loss: 28.3964 - kl_loss: 0.2954\n",
      "Epoch 91/100\n",
      "10/10 [==============================] - 0s 25ms/step - loss: 28.7744 - reconstruction_loss: 28.3375 - kl_loss: 0.2948\n",
      "Epoch 92/100\n",
      "10/10 [==============================] - 0s 24ms/step - loss: 28.8466 - reconstruction_loss: 28.3147 - kl_loss: 0.2935\n",
      "Epoch 93/100\n",
      "10/10 [==============================] - 0s 24ms/step - loss: 28.7677 - reconstruction_loss: 28.2675 - kl_loss: 0.2936\n",
      "Epoch 94/100\n",
      "10/10 [==============================] - 0s 24ms/step - loss: 28.5052 - reconstruction_loss: 28.2431 - kl_loss: 0.2943\n",
      "Epoch 95/100\n",
      "10/10 [==============================] - 0s 24ms/step - loss: 28.3899 - reconstruction_loss: 28.2285 - kl_loss: 0.2927\n",
      "Epoch 96/100\n",
      "10/10 [==============================] - 0s 24ms/step - loss: 28.6507 - reconstruction_loss: 28.2144 - kl_loss: 0.2895\n",
      "Epoch 97/100\n",
      "10/10 [==============================] - 0s 25ms/step - loss: 28.5983 - reconstruction_loss: 28.1902 - kl_loss: 0.2928\n",
      "Epoch 98/100\n",
      "10/10 [==============================] - 0s 24ms/step - loss: 28.5589 - reconstruction_loss: 28.2737 - kl_loss: 0.2909\n",
      "Epoch 99/100\n",
      "10/10 [==============================] - 0s 25ms/step - loss: 28.6476 - reconstruction_loss: 28.2489 - kl_loss: 0.2936\n",
      "Epoch 100/100\n",
      "10/10 [==============================] - 0s 24ms/step - loss: 28.5544 - reconstruction_loss: 28.3316 - kl_loss: 0.2911\n",
      "WARNING:tensorflow:Compiled the loaded model, but the compiled metrics have yet to be built. `model.compile_metrics` will be empty until you train or evaluate the model.\n",
      "INFO:tensorflow:Assets written to: /home/chayan/NeuroGDAVIS/Results/Models/FMnist/FMnist_VAEencoder/assets\n"
     ]
    },
    {
     "name": "stderr",
     "output_type": "stream",
     "text": [
      "INFO:tensorflow:Assets written to: /home/chayan/NeuroGDAVIS/Results/Models/FMnist/FMnist_VAEencoder/assets\n"
     ]
    },
    {
     "name": "stdout",
     "output_type": "stream",
     "text": [
      "WARNING:tensorflow:Compiled the loaded model, but the compiled metrics have yet to be built. `model.compile_metrics` will be empty until you train or evaluate the model.\n"
     ]
    },
    {
     "name": "stderr",
     "output_type": "stream",
     "text": [
      "WARNING:tensorflow:Compiled the loaded model, but the compiled metrics have yet to be built. `model.compile_metrics` will be empty until you train or evaluate the model.\n"
     ]
    },
    {
     "name": "stdout",
     "output_type": "stream",
     "text": [
      "INFO:tensorflow:Assets written to: /home/chayan/NeuroGDAVIS/Results/Models/FMnist/FMnist_VAEdecoder/assets\n"
     ]
    },
    {
     "name": "stderr",
     "output_type": "stream",
     "text": [
      "INFO:tensorflow:Assets written to: /home/chayan/NeuroGDAVIS/Results/Models/FMnist/FMnist_VAEdecoder/assets\n"
     ]
    },
    {
     "name": "stdout",
     "output_type": "stream",
     "text": [
      "313/313 [==============================] - 0s 1ms/step\n"
     ]
    }
   ],
   "source": [
    "model = VAE.train(X, epoch=100, num_layers=[32, 512], bs=1000)\n",
    "\n",
    "newpath = res_model+dataname+'/'\n",
    "if not os.path.exists(newpath):\n",
    "    os.makedirs(newpath)\n",
    "# Saving the model\n",
    "model.encoder.save(newpath+dataname+'_'+methodname+'encoder')\n",
    "model.decoder.save(newpath+dataname+'_'+methodname+'decoder')\n",
    "\n",
    "# extracting embedding\n",
    "_, _, x_embedding = model.encoder.predict(X)\n",
    "newpath = path_emb+dataname+'/'\n",
    "if not os.path.exists(newpath):\n",
    "    os.makedirs(newpath)\n",
    "pd.DataFrame(x_embedding).to_csv(newpath+dataname+'_'+methodname+'.csv')"
   ]
  },
  {
   "cell_type": "code",
   "execution_count": null,
   "id": "52065259-2127-45bd-b2b7-8ed28001f8ae",
   "metadata": {},
   "outputs": [],
   "source": []
  }
 ],
 "metadata": {
  "kernelspec": {
   "display_name": "Python 3 (ipykernel)",
   "language": "python",
   "name": "python3"
  },
  "language_info": {
   "codemirror_mode": {
    "name": "ipython",
    "version": 3
   },
   "file_extension": ".py",
   "mimetype": "text/x-python",
   "name": "python",
   "nbconvert_exporter": "python",
   "pygments_lexer": "ipython3",
   "version": "3.11.0"
  }
 },
 "nbformat": 4,
 "nbformat_minor": 5
}
