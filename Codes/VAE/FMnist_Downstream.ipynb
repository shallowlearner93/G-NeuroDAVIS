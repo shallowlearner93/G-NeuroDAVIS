{
 "cells": [
  {
   "cell_type": "markdown",
   "id": "4eeebcd0-d167-4886-8f7c-41444f54fb4e",
   "metadata": {},
   "source": [
    "# Paths"
   ]
  },
  {
   "cell_type": "code",
   "execution_count": 1,
   "id": "ac91611b-0936-4f98-9e8d-97181456b833",
   "metadata": {},
   "outputs": [],
   "source": [
    "path = '/home/tih_isi_7/G-NeuroDAVIS/'\n",
    "res_plots = path + 'Results/Plots/'\n",
    "path_emb = path + 'Data/Embeddings/'\n",
    "path_tab = path + 'Results/Tables/'"
   ]
  },
  {
   "cell_type": "markdown",
   "id": "c316981d-1615-41da-a1c9-b738ccfd660d",
   "metadata": {},
   "source": [
    "# Importing libraries"
   ]
  },
  {
   "cell_type": "code",
   "execution_count": 2,
   "id": "7d3c1f08-cfaf-482f-ac40-70ede91fbba8",
   "metadata": {},
   "outputs": [],
   "source": [
    "import warnings\n",
    "warnings.simplefilter(action='ignore', category=FutureWarning)\n",
    "\n",
    "import sys\n",
    "sys.path.append(path)\n",
    "\n",
    "import os\n",
    "os.environ['TF_CPP_MIN_LOG_LEVEL'] = '3'\n",
    "\n",
    "import keras\n",
    "import ipynbname\n",
    "import numpy as np\n",
    "import pandas as pd\n",
    "from tqdm import tqdm\n",
    "import matplotlib.pyplot as plt\n",
    "from utils import Datasets as ds\n",
    "from keras.models import load_model\n",
    "from utils import DownstreamAnalysis as DA\n",
    "\n",
    "dataname = ipynbname.name().rsplit(\"_\")[0]\n",
    "txt = %pwd\n",
    "methodname = txt.rsplit(\"/\")[-1]"
   ]
  },
  {
   "cell_type": "markdown",
   "id": "3652554f-7234-4fa7-8421-dfc730d8f90d",
   "metadata": {},
   "source": [
    "# Load labels and embeddings"
   ]
  },
  {
   "cell_type": "code",
   "execution_count": 3,
   "id": "078de0c1-1e7d-439f-992f-56a620601ac6",
   "metadata": {},
   "outputs": [],
   "source": [
    "y, _ = ds.LoadData(dataname, DType='None', LType=True)\n",
    "x_embedding = np.array(pd.read_csv(path_emb+dataname+'/'+dataname+'_'+methodname+'.csv', index_col=0, header=0))"
   ]
  },
  {
   "cell_type": "markdown",
   "id": "3fac58ca-56e2-4b6d-9e32-d9753edb202b",
   "metadata": {},
   "source": [
    "# Downstream analysis"
   ]
  },
  {
   "cell_type": "markdown",
   "id": "d1158d5d-7c13-45dc-9af1-31f20bffe8a8",
   "metadata": {},
   "source": [
    "### k-NN"
   ]
  },
  {
   "cell_type": "code",
   "execution_count": 4,
   "id": "323e3b30-34c8-448d-99a1-752139df2953",
   "metadata": {},
   "outputs": [
    {
     "data": {
      "text/html": [
       "<div>\n",
       "<style scoped>\n",
       "    .dataframe tbody tr th:only-of-type {\n",
       "        vertical-align: middle;\n",
       "    }\n",
       "\n",
       "    .dataframe tbody tr th {\n",
       "        vertical-align: top;\n",
       "    }\n",
       "\n",
       "    .dataframe thead th {\n",
       "        text-align: right;\n",
       "    }\n",
       "</style>\n",
       "<table border=\"1\" class=\"dataframe\">\n",
       "  <thead>\n",
       "    <tr style=\"text-align: right;\">\n",
       "      <th></th>\n",
       "      <th>Accuracy</th>\n",
       "      <th>Precision</th>\n",
       "      <th>Recall</th>\n",
       "      <th>F1-Score</th>\n",
       "    </tr>\n",
       "  </thead>\n",
       "  <tbody>\n",
       "    <tr>\n",
       "      <th>neighbour 5</th>\n",
       "      <td>0.703083</td>\n",
       "      <td>0.700148</td>\n",
       "      <td>0.703083</td>\n",
       "      <td>0.699187</td>\n",
       "    </tr>\n",
       "    <tr>\n",
       "      <th>neighbour 15</th>\n",
       "      <td>0.724000</td>\n",
       "      <td>0.721295</td>\n",
       "      <td>0.724000</td>\n",
       "      <td>0.720819</td>\n",
       "    </tr>\n",
       "    <tr>\n",
       "      <th>neighbour 25</th>\n",
       "      <td>0.727917</td>\n",
       "      <td>0.724283</td>\n",
       "      <td>0.727917</td>\n",
       "      <td>0.724078</td>\n",
       "    </tr>\n",
       "    <tr>\n",
       "      <th>neighbour 35</th>\n",
       "      <td>0.729583</td>\n",
       "      <td>0.725358</td>\n",
       "      <td>0.729583</td>\n",
       "      <td>0.725210</td>\n",
       "    </tr>\n",
       "    <tr>\n",
       "      <th>neighbour 45</th>\n",
       "      <td>0.728333</td>\n",
       "      <td>0.723377</td>\n",
       "      <td>0.728333</td>\n",
       "      <td>0.723540</td>\n",
       "    </tr>\n",
       "  </tbody>\n",
       "</table>\n",
       "</div>"
      ],
      "text/plain": [
       "              Accuracy  Precision    Recall  F1-Score\n",
       "neighbour 5   0.703083   0.700148  0.703083  0.699187\n",
       "neighbour 15  0.724000   0.721295  0.724000  0.720819\n",
       "neighbour 25  0.727917   0.724283  0.727917  0.724078\n",
       "neighbour 35  0.729583   0.725358  0.729583  0.725210\n",
       "neighbour 45  0.728333   0.723377  0.728333  0.723540"
      ]
     },
     "execution_count": 4,
     "metadata": {},
     "output_type": "execute_result"
    }
   ],
   "source": [
    "neighbour = [5, 15, 25, 35, 45]\n",
    "Score_knn = []\n",
    "for n in neighbour:\n",
    "    Score_knn.append(DA.Knn(x_embedding, y, n))\n",
    "Score_knn = pd.DataFrame(Score_knn, index=['neighbour '+ str(s) for s in neighbour],\n",
    "                         columns = ['Accuracy', 'Precision','Recall','F1-Score'])\n",
    "Score_knn.to_csv(path_tab+dataname+'_'+methodname+'_knn.csv')\n",
    "Score_knn"
   ]
  },
  {
   "cell_type": "markdown",
   "id": "4757c522-827f-4dd0-b96a-30a924c56df3",
   "metadata": {},
   "source": [
    "### Random Forest"
   ]
  },
  {
   "cell_type": "code",
   "execution_count": 5,
   "id": "922beea3-2073-4d6a-82b5-f0791dabe022",
   "metadata": {},
   "outputs": [
    {
     "data": {
      "text/html": [
       "<div>\n",
       "<style scoped>\n",
       "    .dataframe tbody tr th:only-of-type {\n",
       "        vertical-align: middle;\n",
       "    }\n",
       "\n",
       "    .dataframe tbody tr th {\n",
       "        vertical-align: top;\n",
       "    }\n",
       "\n",
       "    .dataframe thead th {\n",
       "        text-align: right;\n",
       "    }\n",
       "</style>\n",
       "<table border=\"1\" class=\"dataframe\">\n",
       "  <thead>\n",
       "    <tr style=\"text-align: right;\">\n",
       "      <th></th>\n",
       "      <th>Accuracy</th>\n",
       "      <th>Precision</th>\n",
       "      <th>Recall</th>\n",
       "      <th>F1-Score</th>\n",
       "    </tr>\n",
       "  </thead>\n",
       "  <tbody>\n",
       "    <tr>\n",
       "      <th>n_tree 20</th>\n",
       "      <td>0.693083</td>\n",
       "      <td>0.690373</td>\n",
       "      <td>0.693083</td>\n",
       "      <td>0.691026</td>\n",
       "    </tr>\n",
       "    <tr>\n",
       "      <th>n_tree 40</th>\n",
       "      <td>0.693667</td>\n",
       "      <td>0.691443</td>\n",
       "      <td>0.693667</td>\n",
       "      <td>0.692045</td>\n",
       "    </tr>\n",
       "    <tr>\n",
       "      <th>n_tree 60</th>\n",
       "      <td>0.694167</td>\n",
       "      <td>0.691738</td>\n",
       "      <td>0.694167</td>\n",
       "      <td>0.692455</td>\n",
       "    </tr>\n",
       "    <tr>\n",
       "      <th>n_tree 80</th>\n",
       "      <td>0.694417</td>\n",
       "      <td>0.692487</td>\n",
       "      <td>0.694417</td>\n",
       "      <td>0.692996</td>\n",
       "    </tr>\n",
       "    <tr>\n",
       "      <th>n_tree 100</th>\n",
       "      <td>0.694417</td>\n",
       "      <td>0.692101</td>\n",
       "      <td>0.694417</td>\n",
       "      <td>0.692716</td>\n",
       "    </tr>\n",
       "  </tbody>\n",
       "</table>\n",
       "</div>"
      ],
      "text/plain": [
       "            Accuracy  Precision    Recall  F1-Score\n",
       "n_tree 20   0.693083   0.690373  0.693083  0.691026\n",
       "n_tree 40   0.693667   0.691443  0.693667  0.692045\n",
       "n_tree 60   0.694167   0.691738  0.694167  0.692455\n",
       "n_tree 80   0.694417   0.692487  0.694417  0.692996\n",
       "n_tree 100  0.694417   0.692101  0.694417  0.692716"
      ]
     },
     "execution_count": 5,
     "metadata": {},
     "output_type": "execute_result"
    }
   ],
   "source": [
    "n_tree = [20,40,60,80,100]\n",
    "Score_rfc = []\n",
    "for n in n_tree:\n",
    "    Score_rfc.append(DA.RFC(x_embedding, y, n))\n",
    "Score_rfc = pd.DataFrame(Score_rfc, index=['n_tree '+ str(s) for s in n_tree],\n",
    "                         columns = ['Accuracy', 'Precision','Recall','F1-Score'])\n",
    "Score_rfc.to_csv(path_tab+dataname+'_'+methodname+'_rfc.csv')\n",
    "Score_rfc"
   ]
  },
  {
   "cell_type": "markdown",
   "id": "7934a402-a92c-4c0a-8305-94a81e6d5d1e",
   "metadata": {},
   "source": [
    "### k-Means"
   ]
  },
  {
   "cell_type": "code",
   "execution_count": 6,
   "id": "8861e767-01c3-4259-ac02-73867b5a717c",
   "metadata": {},
   "outputs": [
    {
     "name": "stderr",
     "output_type": "stream",
     "text": [
      "Progress: 100%|█████████████████████████████████| 10/10 [00:04<00:00,  2.24it/s]\n"
     ]
    },
    {
     "data": {
      "text/html": [
       "<div>\n",
       "<style scoped>\n",
       "    .dataframe tbody tr th:only-of-type {\n",
       "        vertical-align: middle;\n",
       "    }\n",
       "\n",
       "    .dataframe tbody tr th {\n",
       "        vertical-align: top;\n",
       "    }\n",
       "\n",
       "    .dataframe thead th {\n",
       "        text-align: right;\n",
       "    }\n",
       "</style>\n",
       "<table border=\"1\" class=\"dataframe\">\n",
       "  <thead>\n",
       "    <tr style=\"text-align: right;\">\n",
       "      <th></th>\n",
       "      <th>ARI</th>\n",
       "      <th>FMI</th>\n",
       "      <th>NMI</th>\n",
       "    </tr>\n",
       "  </thead>\n",
       "  <tbody>\n",
       "    <tr>\n",
       "      <th>0</th>\n",
       "      <td>0.438129</td>\n",
       "      <td>0.578696</td>\n",
       "      <td>0.496462</td>\n",
       "    </tr>\n",
       "    <tr>\n",
       "      <th>1</th>\n",
       "      <td>0.438057</td>\n",
       "      <td>0.578460</td>\n",
       "      <td>0.496372</td>\n",
       "    </tr>\n",
       "    <tr>\n",
       "      <th>2</th>\n",
       "      <td>0.438837</td>\n",
       "      <td>0.580346</td>\n",
       "      <td>0.497236</td>\n",
       "    </tr>\n",
       "    <tr>\n",
       "      <th>3</th>\n",
       "      <td>0.438767</td>\n",
       "      <td>0.579693</td>\n",
       "      <td>0.497105</td>\n",
       "    </tr>\n",
       "    <tr>\n",
       "      <th>4</th>\n",
       "      <td>0.438155</td>\n",
       "      <td>0.578730</td>\n",
       "      <td>0.496487</td>\n",
       "    </tr>\n",
       "    <tr>\n",
       "      <th>5</th>\n",
       "      <td>0.438078</td>\n",
       "      <td>0.578969</td>\n",
       "      <td>0.496430</td>\n",
       "    </tr>\n",
       "    <tr>\n",
       "      <th>6</th>\n",
       "      <td>0.438114</td>\n",
       "      <td>0.578684</td>\n",
       "      <td>0.496448</td>\n",
       "    </tr>\n",
       "    <tr>\n",
       "      <th>7</th>\n",
       "      <td>0.437851</td>\n",
       "      <td>0.578622</td>\n",
       "      <td>0.496221</td>\n",
       "    </tr>\n",
       "    <tr>\n",
       "      <th>8</th>\n",
       "      <td>0.437841</td>\n",
       "      <td>0.577588</td>\n",
       "      <td>0.496143</td>\n",
       "    </tr>\n",
       "    <tr>\n",
       "      <th>9</th>\n",
       "      <td>0.437906</td>\n",
       "      <td>0.578468</td>\n",
       "      <td>0.496230</td>\n",
       "    </tr>\n",
       "  </tbody>\n",
       "</table>\n",
       "</div>"
      ],
      "text/plain": [
       "        ARI       FMI       NMI\n",
       "0  0.438129  0.578696  0.496462\n",
       "1  0.438057  0.578460  0.496372\n",
       "2  0.438837  0.580346  0.497236\n",
       "3  0.438767  0.579693  0.497105\n",
       "4  0.438155  0.578730  0.496487\n",
       "5  0.438078  0.578969  0.496430\n",
       "6  0.438114  0.578684  0.496448\n",
       "7  0.437851  0.578622  0.496221\n",
       "8  0.437841  0.577588  0.496143\n",
       "9  0.437906  0.578468  0.496230"
      ]
     },
     "execution_count": 6,
     "metadata": {},
     "output_type": "execute_result"
    }
   ],
   "source": [
    "iteration = 10\n",
    "Results_km = []\n",
    "\n",
    "for i in tqdm(range(iteration), desc='Progress'):\n",
    "    Results_km.append(DA.kmeans(x_embedding, y))\n",
    "    \n",
    "Results_km = pd.DataFrame(Results_km,columns = ['ARI', 'FMI','NMI'])\n",
    "Results_km"
   ]
  },
  {
   "cell_type": "markdown",
   "id": "ab906b1b-48ac-45e0-8451-64d30ae0d8cb",
   "metadata": {},
   "source": [
    "### Agglomerative "
   ]
  },
  {
   "cell_type": "code",
   "execution_count": 7,
   "id": "48119672-2fb2-45b0-8b85-90a664318bf5",
   "metadata": {},
   "outputs": [
    {
     "data": {
      "text/html": [
       "<div>\n",
       "<style scoped>\n",
       "    .dataframe tbody tr th:only-of-type {\n",
       "        vertical-align: middle;\n",
       "    }\n",
       "\n",
       "    .dataframe tbody tr th {\n",
       "        vertical-align: top;\n",
       "    }\n",
       "\n",
       "    .dataframe thead th {\n",
       "        text-align: right;\n",
       "    }\n",
       "</style>\n",
       "<table border=\"1\" class=\"dataframe\">\n",
       "  <thead>\n",
       "    <tr style=\"text-align: right;\">\n",
       "      <th></th>\n",
       "      <th>ARI</th>\n",
       "      <th>FMI</th>\n",
       "      <th>NMI</th>\n",
       "    </tr>\n",
       "  </thead>\n",
       "  <tbody>\n",
       "    <tr>\n",
       "      <th>0</th>\n",
       "      <td>0.342313</td>\n",
       "      <td>0.509831</td>\n",
       "      <td>0.412525</td>\n",
       "    </tr>\n",
       "  </tbody>\n",
       "</table>\n",
       "</div>"
      ],
      "text/plain": [
       "        ARI       FMI       NMI\n",
       "0  0.342313  0.509831  0.412525"
      ]
     },
     "execution_count": 7,
     "metadata": {},
     "output_type": "execute_result"
    }
   ],
   "source": [
    "idx = ['ARI', 'FMI','NMI']\n",
    "AglScore = pd.DataFrame(DA.Agglomerative(x_embedding, y), index = idx)    #seurat_clusters, Cluster, celltype.l2\n",
    "AglScore.T"
   ]
  },
  {
   "cell_type": "code",
   "execution_count": null,
   "id": "64e9ca87-4f62-4d79-bbcc-fa4c5aadb803",
   "metadata": {},
   "outputs": [],
   "source": []
  }
 ],
 "metadata": {
  "kernelspec": {
   "display_name": "Python 3 (ipykernel)",
   "language": "python",
   "name": "python3"
  },
  "language_info": {
   "codemirror_mode": {
    "name": "ipython",
    "version": 3
   },
   "file_extension": ".py",
   "mimetype": "text/x-python",
   "name": "python",
   "nbconvert_exporter": "python",
   "pygments_lexer": "ipython3",
   "version": "3.11.5"
  }
 },
 "nbformat": 4,
 "nbformat_minor": 5
}
