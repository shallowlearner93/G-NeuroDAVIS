{
 "cells": [
  {
   "cell_type": "markdown",
   "id": "d0bc0310-32e2-48ca-8065-dab92991f18c",
   "metadata": {},
   "source": [
    "# Paths"
   ]
  },
  {
   "cell_type": "code",
   "execution_count": 1,
   "id": "d0b0f26d-d430-4d08-ae41-4281c810144e",
   "metadata": {},
   "outputs": [],
   "source": [
    "path = '/home/chayan/NeuroGDAVIS/'\n",
    "res_plots = path + 'Results/Plots/'\n",
    "res_model = path + 'Results/Models/'\n",
    "path_emb = path + 'Data/Embeddings/'"
   ]
  },
  {
   "cell_type": "markdown",
   "id": "e33475cf",
   "metadata": {},
   "source": [
    "# Importing libraries"
   ]
  },
  {
   "cell_type": "code",
   "execution_count": 2,
   "id": "ff09bcc0",
   "metadata": {},
   "outputs": [],
   "source": [
    "import sys\n",
    "sys.path.append(path)\n",
    "\n",
    "import os\n",
    "os.environ['TF_CPP_MIN_LOG_LEVEL'] = '3'\n",
    "\n",
    "import keras\n",
    "import ipynbname\n",
    "import numpy as np\n",
    "import pandas as pd\n",
    "from utils import VAE\n",
    "import matplotlib.pyplot as plt\n",
    "from utils import Datasets as ds \n",
    "\n",
    "dataname = ipynbname.name().rsplit(\"_\")[0]\n",
    "txt = %pwd\n",
    "methodname = txt.rsplit(\"/\")[-1]"
   ]
  },
  {
   "cell_type": "markdown",
   "id": "ef1a3424",
   "metadata": {},
   "source": [
    "# Importing datasets"
   ]
  },
  {
   "cell_type": "code",
   "execution_count": 3,
   "id": "b097b140",
   "metadata": {},
   "outputs": [],
   "source": [
    "X, y = ds.LoadData(dataname)"
   ]
  },
  {
   "cell_type": "markdown",
   "id": "aac400d0",
   "metadata": {},
   "source": [
    "# Run NeuroGDAVIS"
   ]
  },
  {
   "cell_type": "code",
   "execution_count": 4,
   "id": "7003c396",
   "metadata": {
    "scrolled": true
   },
   "outputs": [
    {
     "name": "stdout",
     "output_type": "stream",
     "text": [
      "Epoch 1/100\n",
      "10/10 [==============================] - 2s 73ms/step - loss: 1.8220 - reconstruction_loss: 0.9300 - kl_loss: 0.5607\n",
      "Epoch 2/100\n",
      "10/10 [==============================] - 1s 72ms/step - loss: 0.9440 - reconstruction_loss: 0.7970 - kl_loss: 0.1578\n",
      "Epoch 3/100\n",
      "10/10 [==============================] - 1s 72ms/step - loss: 0.9410 - reconstruction_loss: 0.7745 - kl_loss: 0.1305\n",
      "Epoch 4/100\n",
      "10/10 [==============================] - 1s 72ms/step - loss: 0.8426 - reconstruction_loss: 0.7341 - kl_loss: 0.1102\n",
      "Epoch 5/100\n",
      "10/10 [==============================] - 1s 71ms/step - loss: 0.8301 - reconstruction_loss: 0.7161 - kl_loss: 0.1082\n",
      "Epoch 6/100\n",
      "10/10 [==============================] - 1s 70ms/step - loss: 0.8059 - reconstruction_loss: 0.7206 - kl_loss: 0.0944\n",
      "Epoch 7/100\n",
      "10/10 [==============================] - 1s 70ms/step - loss: 0.8101 - reconstruction_loss: 0.7396 - kl_loss: 0.0837\n",
      "Epoch 8/100\n",
      "10/10 [==============================] - 1s 73ms/step - loss: 0.7899 - reconstruction_loss: 0.7164 - kl_loss: 0.0777\n",
      "Epoch 9/100\n",
      "10/10 [==============================] - 1s 69ms/step - loss: 0.7354 - reconstruction_loss: 0.6554 - kl_loss: 0.0735\n",
      "Epoch 10/100\n",
      "10/10 [==============================] - 1s 72ms/step - loss: 0.6905 - reconstruction_loss: 0.6489 - kl_loss: 0.0636\n",
      "Epoch 11/100\n",
      "10/10 [==============================] - 1s 72ms/step - loss: 0.6918 - reconstruction_loss: 0.6354 - kl_loss: 0.0590\n",
      "Epoch 12/100\n",
      "10/10 [==============================] - 1s 72ms/step - loss: 0.6835 - reconstruction_loss: 0.6303 - kl_loss: 0.0533\n",
      "Epoch 13/100\n",
      "10/10 [==============================] - 1s 72ms/step - loss: 0.6964 - reconstruction_loss: 0.6124 - kl_loss: 0.0499\n",
      "Epoch 14/100\n",
      "10/10 [==============================] - 1s 72ms/step - loss: 0.6322 - reconstruction_loss: 0.5830 - kl_loss: 0.0461\n",
      "Epoch 15/100\n",
      "10/10 [==============================] - 1s 72ms/step - loss: 0.6172 - reconstruction_loss: 0.5749 - kl_loss: 0.0416\n",
      "Epoch 16/100\n",
      "10/10 [==============================] - 1s 74ms/step - loss: 0.6010 - reconstruction_loss: 0.5665 - kl_loss: 0.0415\n",
      "Epoch 17/100\n",
      "10/10 [==============================] - 1s 72ms/step - loss: 0.6553 - reconstruction_loss: 0.5999 - kl_loss: 0.0445\n",
      "Epoch 18/100\n",
      "10/10 [==============================] - 1s 73ms/step - loss: 0.5959 - reconstruction_loss: 0.5587 - kl_loss: 0.0424\n",
      "Epoch 19/100\n",
      "10/10 [==============================] - 1s 70ms/step - loss: 0.6077 - reconstruction_loss: 0.5610 - kl_loss: 0.0390\n",
      "Epoch 20/100\n",
      "10/10 [==============================] - 1s 69ms/step - loss: 0.6072 - reconstruction_loss: 0.5550 - kl_loss: 0.0436\n",
      "Epoch 21/100\n",
      "10/10 [==============================] - 1s 73ms/step - loss: 0.5962 - reconstruction_loss: 0.5518 - kl_loss: 0.0424\n",
      "Epoch 22/100\n",
      "10/10 [==============================] - 1s 71ms/step - loss: 0.5890 - reconstruction_loss: 0.5509 - kl_loss: 0.0421\n",
      "Epoch 23/100\n",
      "10/10 [==============================] - 1s 71ms/step - loss: 0.5640 - reconstruction_loss: 0.5368 - kl_loss: 0.0409\n",
      "Epoch 24/100\n",
      "10/10 [==============================] - 1s 72ms/step - loss: 0.5900 - reconstruction_loss: 0.5486 - kl_loss: 0.0415\n",
      "Epoch 25/100\n",
      "10/10 [==============================] - 1s 71ms/step - loss: 0.5854 - reconstruction_loss: 0.5479 - kl_loss: 0.0438\n",
      "Epoch 26/100\n",
      "10/10 [==============================] - 1s 71ms/step - loss: 0.5730 - reconstruction_loss: 0.5337 - kl_loss: 0.0438\n",
      "Epoch 27/100\n",
      "10/10 [==============================] - 1s 71ms/step - loss: 0.5852 - reconstruction_loss: 0.5684 - kl_loss: 0.0424\n",
      "Epoch 28/100\n",
      "10/10 [==============================] - 1s 70ms/step - loss: 0.5926 - reconstruction_loss: 0.5474 - kl_loss: 0.0474\n",
      "Epoch 29/100\n",
      "10/10 [==============================] - 1s 71ms/step - loss: 0.5773 - reconstruction_loss: 0.5397 - kl_loss: 0.0451\n",
      "Epoch 30/100\n",
      "10/10 [==============================] - 1s 69ms/step - loss: 0.5747 - reconstruction_loss: 0.5307 - kl_loss: 0.0387\n",
      "Epoch 31/100\n",
      "10/10 [==============================] - 1s 72ms/step - loss: 0.5679 - reconstruction_loss: 0.5216 - kl_loss: 0.0422\n",
      "Epoch 32/100\n",
      "10/10 [==============================] - 1s 72ms/step - loss: 0.5568 - reconstruction_loss: 0.5148 - kl_loss: 0.0428\n",
      "Epoch 33/100\n",
      "10/10 [==============================] - 1s 70ms/step - loss: 0.5674 - reconstruction_loss: 0.5243 - kl_loss: 0.0428\n",
      "Epoch 34/100\n",
      "10/10 [==============================] - 1s 69ms/step - loss: 0.5650 - reconstruction_loss: 0.5284 - kl_loss: 0.0429\n",
      "Epoch 35/100\n",
      "10/10 [==============================] - 1s 72ms/step - loss: 0.5731 - reconstruction_loss: 0.5313 - kl_loss: 0.0441\n",
      "Epoch 36/100\n",
      "10/10 [==============================] - 1s 71ms/step - loss: 0.5902 - reconstruction_loss: 0.5412 - kl_loss: 0.0462\n",
      "Epoch 37/100\n",
      "10/10 [==============================] - 1s 73ms/step - loss: 0.5736 - reconstruction_loss: 0.5241 - kl_loss: 0.0424\n",
      "Epoch 38/100\n",
      "10/10 [==============================] - 1s 71ms/step - loss: 0.5579 - reconstruction_loss: 0.5387 - kl_loss: 0.0394\n",
      "Epoch 39/100\n",
      "10/10 [==============================] - 1s 73ms/step - loss: 0.5808 - reconstruction_loss: 0.5353 - kl_loss: 0.0480\n",
      "Epoch 40/100\n",
      "10/10 [==============================] - 1s 73ms/step - loss: 0.5626 - reconstruction_loss: 0.5277 - kl_loss: 0.0476\n",
      "Epoch 41/100\n",
      "10/10 [==============================] - 1s 73ms/step - loss: 0.5684 - reconstruction_loss: 0.5407 - kl_loss: 0.0440\n",
      "Epoch 42/100\n",
      "10/10 [==============================] - 1s 71ms/step - loss: 0.5866 - reconstruction_loss: 0.5401 - kl_loss: 0.0429\n",
      "WARNING:tensorflow:Compiled the loaded model, but the compiled metrics have yet to be built. `model.compile_metrics` will be empty until you train or evaluate the model.\n",
      "INFO:tensorflow:Assets written to: /home/chayan/NeuroGDAVIS/Results/Models/OlivettiFaces/OlivettiFaces_VAEencoder/assets\n"
     ]
    },
    {
     "name": "stderr",
     "output_type": "stream",
     "text": [
      "INFO:tensorflow:Assets written to: /home/chayan/NeuroGDAVIS/Results/Models/OlivettiFaces/OlivettiFaces_VAEencoder/assets\n"
     ]
    },
    {
     "name": "stdout",
     "output_type": "stream",
     "text": [
      "WARNING:tensorflow:Compiled the loaded model, but the compiled metrics have yet to be built. `model.compile_metrics` will be empty until you train or evaluate the model.\n"
     ]
    },
    {
     "name": "stderr",
     "output_type": "stream",
     "text": [
      "WARNING:tensorflow:Compiled the loaded model, but the compiled metrics have yet to be built. `model.compile_metrics` will be empty until you train or evaluate the model.\n"
     ]
    },
    {
     "name": "stdout",
     "output_type": "stream",
     "text": [
      "INFO:tensorflow:Assets written to: /home/chayan/NeuroGDAVIS/Results/Models/OlivettiFaces/OlivettiFaces_VAEdecoder/assets\n"
     ]
    },
    {
     "name": "stderr",
     "output_type": "stream",
     "text": [
      "INFO:tensorflow:Assets written to: /home/chayan/NeuroGDAVIS/Results/Models/OlivettiFaces/OlivettiFaces_VAEdecoder/assets\n"
     ]
    },
    {
     "name": "stdout",
     "output_type": "stream",
     "text": [
      "13/13 [==============================] - 0s 4ms/step\n"
     ]
    }
   ],
   "source": [
    "model = VAE.train(X, epoch=100, num_layers=[64, 1024], bs=40)\n",
    "\n",
    "newpath = res_model+dataname+'/'\n",
    "if not os.path.exists(newpath):\n",
    "    os.makedirs(newpath)\n",
    "# Saving the model\n",
    "model.encoder.save(newpath+dataname+'_'+methodname+'encoder')\n",
    "model.decoder.save(newpath+dataname+'_'+methodname+'decoder')\n",
    "\n",
    "# extracting embedding\n",
    "_, _, x_embedding = model.encoder.predict(X)\n",
    "newpath = path_emb+dataname+'/'\n",
    "if not os.path.exists(newpath):\n",
    "    os.makedirs(newpath)\n",
    "pd.DataFrame(x_embedding).to_csv(newpath+dataname+'_'+methodname+'.csv')"
   ]
  },
  {
   "cell_type": "code",
   "execution_count": null,
   "id": "f4f19513-78a0-4f3a-9600-eda51cfc94a9",
   "metadata": {},
   "outputs": [],
   "source": []
  }
 ],
 "metadata": {
  "kernelspec": {
   "display_name": "Python 3 (ipykernel)",
   "language": "python",
   "name": "python3"
  },
  "language_info": {
   "codemirror_mode": {
    "name": "ipython",
    "version": 3
   },
   "file_extension": ".py",
   "mimetype": "text/x-python",
   "name": "python",
   "nbconvert_exporter": "python",
   "pygments_lexer": "ipython3",
   "version": "3.11.0"
  }
 },
 "nbformat": 4,
 "nbformat_minor": 5
}
