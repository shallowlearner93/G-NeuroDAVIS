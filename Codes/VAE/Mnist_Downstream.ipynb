{
 "cells": [
  {
   "cell_type": "markdown",
   "id": "4eeebcd0-d167-4886-8f7c-41444f54fb4e",
   "metadata": {},
   "source": [
    "# Paths"
   ]
  },
  {
   "cell_type": "code",
   "execution_count": 1,
   "id": "ac91611b-0936-4f98-9e8d-97181456b833",
   "metadata": {},
   "outputs": [],
   "source": [
    "path = '/home/tih_isi_7/G-NeuroDAVIS/'\n",
    "res_plots = path + 'Results/Plots/'\n",
    "path_emb = path + 'Data/Embeddings/'\n",
    "path_tab = path + 'Results/Tables/'"
   ]
  },
  {
   "cell_type": "markdown",
   "id": "c316981d-1615-41da-a1c9-b738ccfd660d",
   "metadata": {},
   "source": [
    "# Importing libraries"
   ]
  },
  {
   "cell_type": "code",
   "execution_count": 2,
   "id": "7d3c1f08-cfaf-482f-ac40-70ede91fbba8",
   "metadata": {},
   "outputs": [],
   "source": [
    "import warnings\n",
    "warnings.simplefilter(action='ignore', category=FutureWarning)\n",
    "\n",
    "import sys\n",
    "sys.path.append(path)\n",
    "\n",
    "import os\n",
    "os.environ['TF_CPP_MIN_LOG_LEVEL'] = '3'\n",
    "\n",
    "import keras\n",
    "import ipynbname\n",
    "import numpy as np\n",
    "import pandas as pd\n",
    "from tqdm import tqdm\n",
    "import matplotlib.pyplot as plt\n",
    "from utils import Datasets as ds\n",
    "from keras.models import load_model\n",
    "from utils import DownstreamAnalysis as DA\n",
    "\n",
    "dataname = ipynbname.name().rsplit(\"_\")[0]\n",
    "txt = %pwd\n",
    "methodname = txt.rsplit(\"/\")[-1]"
   ]
  },
  {
   "cell_type": "markdown",
   "id": "3652554f-7234-4fa7-8421-dfc730d8f90d",
   "metadata": {},
   "source": [
    "# Load labels and embeddings"
   ]
  },
  {
   "cell_type": "code",
   "execution_count": 3,
   "id": "078de0c1-1e7d-439f-992f-56a620601ac6",
   "metadata": {},
   "outputs": [],
   "source": [
    "y, _ = ds.LoadData(dataname, DType='None', LType=True)\n",
    "x_embedding = np.array(pd.read_csv(path_emb+dataname+'/'+dataname+'_'+methodname+'.csv', index_col=0, header=0))"
   ]
  },
  {
   "cell_type": "markdown",
   "id": "3fac58ca-56e2-4b6d-9e32-d9753edb202b",
   "metadata": {},
   "source": [
    "# Downstream analysis"
   ]
  },
  {
   "cell_type": "markdown",
   "id": "d1158d5d-7c13-45dc-9af1-31f20bffe8a8",
   "metadata": {},
   "source": [
    "### k-NN"
   ]
  },
  {
   "cell_type": "code",
   "execution_count": 4,
   "id": "323e3b30-34c8-448d-99a1-752139df2953",
   "metadata": {},
   "outputs": [
    {
     "data": {
      "text/html": [
       "<div>\n",
       "<style scoped>\n",
       "    .dataframe tbody tr th:only-of-type {\n",
       "        vertical-align: middle;\n",
       "    }\n",
       "\n",
       "    .dataframe tbody tr th {\n",
       "        vertical-align: top;\n",
       "    }\n",
       "\n",
       "    .dataframe thead th {\n",
       "        text-align: right;\n",
       "    }\n",
       "</style>\n",
       "<table border=\"1\" class=\"dataframe\">\n",
       "  <thead>\n",
       "    <tr style=\"text-align: right;\">\n",
       "      <th></th>\n",
       "      <th>Accuracy</th>\n",
       "      <th>Precision</th>\n",
       "      <th>Recall</th>\n",
       "      <th>F1-Score</th>\n",
       "    </tr>\n",
       "  </thead>\n",
       "  <tbody>\n",
       "    <tr>\n",
       "      <th>neighbour 5</th>\n",
       "      <td>0.775833</td>\n",
       "      <td>0.777903</td>\n",
       "      <td>0.775833</td>\n",
       "      <td>0.775780</td>\n",
       "    </tr>\n",
       "    <tr>\n",
       "      <th>neighbour 15</th>\n",
       "      <td>0.791833</td>\n",
       "      <td>0.795934</td>\n",
       "      <td>0.791833</td>\n",
       "      <td>0.792940</td>\n",
       "    </tr>\n",
       "    <tr>\n",
       "      <th>neighbour 25</th>\n",
       "      <td>0.794333</td>\n",
       "      <td>0.798950</td>\n",
       "      <td>0.794333</td>\n",
       "      <td>0.795562</td>\n",
       "    </tr>\n",
       "    <tr>\n",
       "      <th>neighbour 35</th>\n",
       "      <td>0.794417</td>\n",
       "      <td>0.799522</td>\n",
       "      <td>0.794417</td>\n",
       "      <td>0.795740</td>\n",
       "    </tr>\n",
       "    <tr>\n",
       "      <th>neighbour 45</th>\n",
       "      <td>0.795250</td>\n",
       "      <td>0.800800</td>\n",
       "      <td>0.795250</td>\n",
       "      <td>0.796643</td>\n",
       "    </tr>\n",
       "  </tbody>\n",
       "</table>\n",
       "</div>"
      ],
      "text/plain": [
       "              Accuracy  Precision    Recall  F1-Score\n",
       "neighbour 5   0.775833   0.777903  0.775833  0.775780\n",
       "neighbour 15  0.791833   0.795934  0.791833  0.792940\n",
       "neighbour 25  0.794333   0.798950  0.794333  0.795562\n",
       "neighbour 35  0.794417   0.799522  0.794417  0.795740\n",
       "neighbour 45  0.795250   0.800800  0.795250  0.796643"
      ]
     },
     "execution_count": 4,
     "metadata": {},
     "output_type": "execute_result"
    }
   ],
   "source": [
    "neighbour = [5, 15, 25, 35, 45]\n",
    "Score_knn = []\n",
    "for n in neighbour:\n",
    "    Score_knn.append(DA.Knn(x_embedding, y, n))\n",
    "Score_knn = pd.DataFrame(Score_knn, index=['neighbour '+ str(s) for s in neighbour],\n",
    "                         columns = ['Accuracy', 'Precision','Recall','F1-Score'])\n",
    "Score_knn.to_csv(path_tab+dataname+'_'+methodname+'_knn.csv')\n",
    "Score_knn"
   ]
  },
  {
   "cell_type": "markdown",
   "id": "4757c522-827f-4dd0-b96a-30a924c56df3",
   "metadata": {},
   "source": [
    "### Random Forest"
   ]
  },
  {
   "cell_type": "code",
   "execution_count": 5,
   "id": "922beea3-2073-4d6a-82b5-f0791dabe022",
   "metadata": {},
   "outputs": [
    {
     "data": {
      "text/html": [
       "<div>\n",
       "<style scoped>\n",
       "    .dataframe tbody tr th:only-of-type {\n",
       "        vertical-align: middle;\n",
       "    }\n",
       "\n",
       "    .dataframe tbody tr th {\n",
       "        vertical-align: top;\n",
       "    }\n",
       "\n",
       "    .dataframe thead th {\n",
       "        text-align: right;\n",
       "    }\n",
       "</style>\n",
       "<table border=\"1\" class=\"dataframe\">\n",
       "  <thead>\n",
       "    <tr style=\"text-align: right;\">\n",
       "      <th></th>\n",
       "      <th>Accuracy</th>\n",
       "      <th>Precision</th>\n",
       "      <th>Recall</th>\n",
       "      <th>F1-Score</th>\n",
       "    </tr>\n",
       "  </thead>\n",
       "  <tbody>\n",
       "    <tr>\n",
       "      <th>n_tree 20</th>\n",
       "      <td>0.774583</td>\n",
       "      <td>0.776267</td>\n",
       "      <td>0.774583</td>\n",
       "      <td>0.775022</td>\n",
       "    </tr>\n",
       "    <tr>\n",
       "      <th>n_tree 40</th>\n",
       "      <td>0.777250</td>\n",
       "      <td>0.779558</td>\n",
       "      <td>0.777250</td>\n",
       "      <td>0.777851</td>\n",
       "    </tr>\n",
       "    <tr>\n",
       "      <th>n_tree 60</th>\n",
       "      <td>0.778583</td>\n",
       "      <td>0.780941</td>\n",
       "      <td>0.778583</td>\n",
       "      <td>0.779297</td>\n",
       "    </tr>\n",
       "    <tr>\n",
       "      <th>n_tree 80</th>\n",
       "      <td>0.777500</td>\n",
       "      <td>0.779744</td>\n",
       "      <td>0.777500</td>\n",
       "      <td>0.778240</td>\n",
       "    </tr>\n",
       "    <tr>\n",
       "      <th>n_tree 100</th>\n",
       "      <td>0.779500</td>\n",
       "      <td>0.781822</td>\n",
       "      <td>0.779500</td>\n",
       "      <td>0.780223</td>\n",
       "    </tr>\n",
       "  </tbody>\n",
       "</table>\n",
       "</div>"
      ],
      "text/plain": [
       "            Accuracy  Precision    Recall  F1-Score\n",
       "n_tree 20   0.774583   0.776267  0.774583  0.775022\n",
       "n_tree 40   0.777250   0.779558  0.777250  0.777851\n",
       "n_tree 60   0.778583   0.780941  0.778583  0.779297\n",
       "n_tree 80   0.777500   0.779744  0.777500  0.778240\n",
       "n_tree 100  0.779500   0.781822  0.779500  0.780223"
      ]
     },
     "execution_count": 5,
     "metadata": {},
     "output_type": "execute_result"
    }
   ],
   "source": [
    "n_tree = [20,40,60,80,100]\n",
    "Score_rfc = []\n",
    "for n in n_tree:\n",
    "    Score_rfc.append(DA.RFC(x_embedding, y, n))\n",
    "Score_rfc = pd.DataFrame(Score_rfc, index=['n_tree '+ str(s) for s in n_tree],\n",
    "                         columns = ['Accuracy', 'Precision','Recall','F1-Score'])\n",
    "Score_rfc.to_csv(path_tab+dataname+'_'+methodname+'_rfc.csv')\n",
    "Score_rfc"
   ]
  },
  {
   "cell_type": "markdown",
   "id": "7934a402-a92c-4c0a-8305-94a81e6d5d1e",
   "metadata": {},
   "source": [
    "### k-Means"
   ]
  },
  {
   "cell_type": "code",
   "execution_count": 6,
   "id": "8861e767-01c3-4259-ac02-73867b5a717c",
   "metadata": {},
   "outputs": [
    {
     "name": "stderr",
     "output_type": "stream",
     "text": [
      "Progress: 100%|█████████████████████████████████| 10/10 [00:04<00:00,  2.15it/s]\n"
     ]
    },
    {
     "data": {
      "text/html": [
       "<div>\n",
       "<style scoped>\n",
       "    .dataframe tbody tr th:only-of-type {\n",
       "        vertical-align: middle;\n",
       "    }\n",
       "\n",
       "    .dataframe tbody tr th {\n",
       "        vertical-align: top;\n",
       "    }\n",
       "\n",
       "    .dataframe thead th {\n",
       "        text-align: right;\n",
       "    }\n",
       "</style>\n",
       "<table border=\"1\" class=\"dataframe\">\n",
       "  <thead>\n",
       "    <tr style=\"text-align: right;\">\n",
       "      <th></th>\n",
       "      <th>ARI</th>\n",
       "      <th>FMI</th>\n",
       "      <th>NMI</th>\n",
       "    </tr>\n",
       "  </thead>\n",
       "  <tbody>\n",
       "    <tr>\n",
       "      <th>0</th>\n",
       "      <td>0.370969</td>\n",
       "      <td>0.546549</td>\n",
       "      <td>0.448367</td>\n",
       "    </tr>\n",
       "    <tr>\n",
       "      <th>1</th>\n",
       "      <td>0.371272</td>\n",
       "      <td>0.546720</td>\n",
       "      <td>0.448627</td>\n",
       "    </tr>\n",
       "    <tr>\n",
       "      <th>2</th>\n",
       "      <td>0.370380</td>\n",
       "      <td>0.546317</td>\n",
       "      <td>0.447934</td>\n",
       "    </tr>\n",
       "    <tr>\n",
       "      <th>3</th>\n",
       "      <td>0.371272</td>\n",
       "      <td>0.546720</td>\n",
       "      <td>0.448627</td>\n",
       "    </tr>\n",
       "    <tr>\n",
       "      <th>4</th>\n",
       "      <td>0.370421</td>\n",
       "      <td>0.546216</td>\n",
       "      <td>0.447951</td>\n",
       "    </tr>\n",
       "    <tr>\n",
       "      <th>5</th>\n",
       "      <td>0.369277</td>\n",
       "      <td>0.545412</td>\n",
       "      <td>0.446994</td>\n",
       "    </tr>\n",
       "    <tr>\n",
       "      <th>6</th>\n",
       "      <td>0.370353</td>\n",
       "      <td>0.546275</td>\n",
       "      <td>0.447908</td>\n",
       "    </tr>\n",
       "    <tr>\n",
       "      <th>7</th>\n",
       "      <td>0.370053</td>\n",
       "      <td>0.545977</td>\n",
       "      <td>0.447628</td>\n",
       "    </tr>\n",
       "    <tr>\n",
       "      <th>8</th>\n",
       "      <td>0.370354</td>\n",
       "      <td>0.546182</td>\n",
       "      <td>0.447898</td>\n",
       "    </tr>\n",
       "    <tr>\n",
       "      <th>9</th>\n",
       "      <td>0.370656</td>\n",
       "      <td>0.546330</td>\n",
       "      <td>0.448141</td>\n",
       "    </tr>\n",
       "  </tbody>\n",
       "</table>\n",
       "</div>"
      ],
      "text/plain": [
       "        ARI       FMI       NMI\n",
       "0  0.370969  0.546549  0.448367\n",
       "1  0.371272  0.546720  0.448627\n",
       "2  0.370380  0.546317  0.447934\n",
       "3  0.371272  0.546720  0.448627\n",
       "4  0.370421  0.546216  0.447951\n",
       "5  0.369277  0.545412  0.446994\n",
       "6  0.370353  0.546275  0.447908\n",
       "7  0.370053  0.545977  0.447628\n",
       "8  0.370354  0.546182  0.447898\n",
       "9  0.370656  0.546330  0.448141"
      ]
     },
     "execution_count": 6,
     "metadata": {},
     "output_type": "execute_result"
    }
   ],
   "source": [
    "iteration = 10\n",
    "Results_km = []\n",
    "\n",
    "for i in tqdm(range(iteration), desc='Progress'):\n",
    "    Results_km.append(DA.kmeans(x_embedding, y))\n",
    "    \n",
    "Results_km = pd.DataFrame(Results_km,columns = ['ARI', 'FMI','NMI'])\n",
    "Results_km"
   ]
  },
  {
   "cell_type": "markdown",
   "id": "ab906b1b-48ac-45e0-8451-64d30ae0d8cb",
   "metadata": {},
   "source": [
    "### Agglomerative "
   ]
  },
  {
   "cell_type": "code",
   "execution_count": 7,
   "id": "48119672-2fb2-45b0-8b85-90a664318bf5",
   "metadata": {},
   "outputs": [
    {
     "data": {
      "text/html": [
       "<div>\n",
       "<style scoped>\n",
       "    .dataframe tbody tr th:only-of-type {\n",
       "        vertical-align: middle;\n",
       "    }\n",
       "\n",
       "    .dataframe tbody tr th {\n",
       "        vertical-align: top;\n",
       "    }\n",
       "\n",
       "    .dataframe thead th {\n",
       "        text-align: right;\n",
       "    }\n",
       "</style>\n",
       "<table border=\"1\" class=\"dataframe\">\n",
       "  <thead>\n",
       "    <tr style=\"text-align: right;\">\n",
       "      <th></th>\n",
       "      <th>ARI</th>\n",
       "      <th>FMI</th>\n",
       "      <th>NMI</th>\n",
       "    </tr>\n",
       "  </thead>\n",
       "  <tbody>\n",
       "    <tr>\n",
       "      <th>0</th>\n",
       "      <td>0.285714</td>\n",
       "      <td>0.480608</td>\n",
       "      <td>0.378466</td>\n",
       "    </tr>\n",
       "  </tbody>\n",
       "</table>\n",
       "</div>"
      ],
      "text/plain": [
       "        ARI       FMI       NMI\n",
       "0  0.285714  0.480608  0.378466"
      ]
     },
     "execution_count": 7,
     "metadata": {},
     "output_type": "execute_result"
    }
   ],
   "source": [
    "idx = ['ARI', 'FMI','NMI']\n",
    "AglScore = pd.DataFrame(DA.Agglomerative(x_embedding, y), index = idx)    #seurat_clusters, Cluster, celltype.l2\n",
    "AglScore.T"
   ]
  },
  {
   "cell_type": "code",
   "execution_count": null,
   "id": "64e9ca87-4f62-4d79-bbcc-fa4c5aadb803",
   "metadata": {},
   "outputs": [],
   "source": []
  }
 ],
 "metadata": {
  "kernelspec": {
   "display_name": "Python 3 (ipykernel)",
   "language": "python",
   "name": "python3"
  },
  "language_info": {
   "codemirror_mode": {
    "name": "ipython",
    "version": 3
   },
   "file_extension": ".py",
   "mimetype": "text/x-python",
   "name": "python",
   "nbconvert_exporter": "python",
   "pygments_lexer": "ipython3",
   "version": "3.11.5"
  }
 },
 "nbformat": 4,
 "nbformat_minor": 5
}
